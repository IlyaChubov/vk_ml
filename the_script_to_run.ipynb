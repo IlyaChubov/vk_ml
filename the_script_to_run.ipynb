{
 "cells": [
  {
   "cell_type": "markdown",
   "id": "2c48f8e2-eafe-4d7b-a94f-66cc49cd88f8",
   "metadata": {},
   "source": [
    "## Обработка признаков, перед подачей в модель"
   ]
  },
  {
   "cell_type": "code",
   "execution_count": 7,
   "id": "9795f5a0-f96c-4b2e-ac7e-1ad862de05ab",
   "metadata": {
    "execution": {
     "iopub.execute_input": "2024-10-22T15:02:17.513071Z",
     "iopub.status.busy": "2024-10-22T15:02:17.511668Z",
     "iopub.status.idle": "2024-10-22T15:02:29.517039Z",
     "shell.execute_reply": "2024-10-22T15:02:29.516240Z",
     "shell.execute_reply.started": "2024-10-22T15:02:17.513024Z"
    },
    "tags": []
   },
   "outputs": [],
   "source": [
    "import pandas as pd\n",
    "import numpy as np\n",
    "\n",
    "\n",
    "df_test = pd.read_parquet('/home/jupyter/datasphere/vk/test.parquet')\n",
    "\n",
    "\n",
    "\n",
    "# Преобразование строковых дат в datetime\n",
    "df_test['dates'] = df_test['dates'].apply(lambda x: pd.to_datetime(x))\n",
    "\n",
    "# Признаки\n",
    "df_test['start_date'] = df_test['dates'].apply(lambda x: x[0])  # первая дата\n",
    "df_test['end_date'] = df_test['dates'].apply(lambda x: x[-1])   # последняя дата\n",
    "df_test['duration_days'] = df_test['end_date'] - df_test['start_date']  # продолжительность периода\n",
    "\n",
    "# Пример извлечения года и месяца из первой даты\n",
    "df_test['start_year'] = df_test['start_date'].apply(lambda x: x.year)\n",
    "df_test['start_month'] = df_test['start_date'].apply(lambda x: x.month)\n",
    "\n",
    "# Пример извлечения среднего временного интервала между датами\n",
    "df_test['mean_interval_days'] = df_test['dates'].apply(lambda x: (x[-1] - x[0]).days / len(x) if len(x) > 1 else 0)\n",
    "\n",
    "# Агрегация\n",
    "df_test['median'] = df_test['values'].apply(np.median)\n",
    "df_test['mean'] = df_test['values'].apply(np.mean)\n",
    "df_test['std'] = df_test['values'].apply(np.std)\n",
    "df_test['min'] = df_test['values'].apply(np.min)\n",
    "df_test['max'] = df_test['values'].apply(np.max)\n",
    "df_test['last_value']  = df_test['values'].apply(lambda x: x[-1])\n",
    "df_test['sum'] = df_test['values'].apply(np.sum)\n",
    "df_test['coef_of_variation'] = df_test['std'] / df_test['mean']\n",
    "df_test['ema'] = df_test['values'].apply(lambda x: pd.Series(x).ewm(span=3).mean().iloc[-1])\n",
    "\n",
    "from scipy.stats import linregress\n",
    "df_test['trend_slope'] = df_test['values'].apply(lambda x: linregress(range(len(x)), x)[0])\n",
    "df_test['length'] = df_test['values'].apply(len)\n",
    "df_test['kurtosis'] = df_test['values'].apply(lambda x: pd.Series(x).kurtosis())"
   ]
  },
  {
   "cell_type": "markdown",
   "id": "7079a3b1-075c-4d63-84e1-1171bbd42222",
   "metadata": {},
   "source": [
    "## После обработки values и dates удалим эти столбцы"
   ]
  },
  {
   "cell_type": "code",
   "execution_count": 12,
   "id": "3fdd5ff0-789b-4c24-8e5a-b128e416ed35",
   "metadata": {
    "execution": {
     "iopub.execute_input": "2024-10-22T15:03:46.441392Z",
     "iopub.status.busy": "2024-10-22T15:03:46.440400Z",
     "iopub.status.idle": "2024-10-22T15:03:46.506802Z",
     "shell.execute_reply": "2024-10-22T15:03:46.505863Z",
     "shell.execute_reply.started": "2024-10-22T15:03:46.441350Z"
    },
    "tags": []
   },
   "outputs": [],
   "source": [
    "df_test.drop(columns = ['dates','values'], inplace = True)"
   ]
  },
  {
   "cell_type": "markdown",
   "id": "3c3f8024-9766-47b7-b9c0-7d6e02ffbec0",
   "metadata": {
    "execution": {
     "iopub.execute_input": "2024-10-22T14:58:02.780420Z",
     "iopub.status.busy": "2024-10-22T14:58:02.779108Z",
     "iopub.status.idle": "2024-10-22T14:58:02.822834Z",
     "shell.execute_reply": "2024-10-22T14:58:02.821992Z",
     "shell.execute_reply.started": "2024-10-22T14:58:02.780372Z"
    }
   },
   "source": [
    "## Предсказание на test"
   ]
  },
  {
   "cell_type": "code",
   "execution_count": 14,
   "id": "5eb27f77-934f-452e-b973-6ab4747af68d",
   "metadata": {
    "execution": {
     "iopub.execute_input": "2024-10-22T15:04:00.019209Z",
     "iopub.status.busy": "2024-10-22T15:04:00.017828Z",
     "iopub.status.idle": "2024-10-22T15:04:00.111196Z",
     "shell.execute_reply": "2024-10-22T15:04:00.110343Z",
     "shell.execute_reply.started": "2024-10-22T15:04:00.019166Z"
    },
    "tags": []
   },
   "outputs": [
    {
     "data": {
      "text/html": [
       "<a href='result.csv' target='_blank'>result.csv</a><br>"
      ],
      "text/plain": [
       "/home/jupyter/datasphere/vk/result.csv"
      ]
     },
     "execution_count": 14,
     "metadata": {},
     "output_type": "execute_result"
    }
   ],
   "source": [
    "from catboost import CatBoostClassifier\n",
    "\n",
    "# Загрузка модели из файла\n",
    "loaded_model = CatBoostClassifier()  # или CatBoostRegressor\n",
    "loaded_model.load_model('catboost_model.cbm')\n",
    "\n",
    "# Использование загруженной модели для предсказаний\n",
    "y_pred = loaded_model.predict_proba(df_test)\n",
    "\n",
    "\n",
    "##сохранение предсказаний в csv файл\n",
    "from IPython.display import FileLink\n",
    "\n",
    "res = pd.DataFrame(y_pred)\n",
    "res = pd.concat([df_test['id'],res], axis = 1)\n",
    "result = res.rename(columns = {0:'score'})\n",
    "FileLink('result.csv')"
   ]
  }
 ],
 "metadata": {
  "kernelspec": {
   "display_name": "DataSphere Kernel",
   "language": "python",
   "name": "python3"
  },
  "language_info": {
   "codemirror_mode": {
    "name": "ipython",
    "version": 3
   },
   "file_extension": ".py",
   "mimetype": "text/x-python",
   "name": "python",
   "nbconvert_exporter": "python",
   "pygments_lexer": "ipython3",
   "version": "3.10.12"
  }
 },
 "nbformat": 4,
 "nbformat_minor": 5
}
