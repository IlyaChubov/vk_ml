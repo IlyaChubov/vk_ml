{
 "cells": [
  {
   "cell_type": "markdown",
   "id": "2c48f8e2-eafe-4d7b-a94f-66cc49cd88f8",
   "metadata": {},
   "source": [
    "## Обработка признаков, перед подачей в модель"
   ]
  },
  {
   "cell_type": "markdown",
   "id": "7079a3b1-075c-4d63-84e1-1171bbd42222",
   "metadata": {},
   "source": [
    "## После обработки values и dates удалим эти столбцы"
   ]
  },
  {
   "cell_type": "code",
   "execution_count": null,
   "id": "8d53c9cc-a730-4784-afc9-3557c82476ef",
   "metadata": {},
   "outputs": [],
   "source": [
    "import pandas as pd\n",
    "import numpy as np\n",
    "from scipy.stats import linregress\n",
    "\n",
    "# Чтение данных из parquet файла\n",
    "df_test = pd.read_parquet('/home/jupyter/datasphere/vk/test.parquet')\n",
    "\n",
    "# Преобразование строковых дат в формат datetime\n",
    "df_test['dates'] = df_test['dates'].apply(pd.to_datetime)\n",
    "\n",
    "# Извлечение временных признаков\n",
    "df_test['start_date'] = df_test['dates'].apply(lambda x: x[0])  # Первая дата\n",
    "df_test['end_date'] = df_test['dates'].apply(lambda x: x[-1])   # Последняя дата\n",
    "df_test['duration_days'] = df_test['end_date'] - df_test['start_date']  # Длительность периода\n",
    "\n",
    "# Извлечение года и месяца из первой даты\n",
    "df_test['start_year'] = df_test['start_date'].dt.year\n",
    "df_test['start_month'] = df_test['start_date'].dt.month\n",
    "\n",
    "# Вычисление среднего временного интервала между датами\n",
    "df_test['mean_interval_days'] = df_test['dates'].apply(\n",
    "    lambda x: (x[-1] - x[0]).days / len(x) if len(x) > 1 else 0\n",
    ")\n",
    "\n",
    "# Агрегация значений из списка 'values'\n",
    "df_test['median'] = df_test['values'].apply(np.median)  # Медиана значений\n",
    "df_test['mean'] = df_test['values'].apply(np.mean)      # Среднее значение\n",
    "df_test['std'] = df_test['values'].apply(np.std)        # Стандартное отклонение\n",
    "df_test['min'] = df_test['values'].apply(np.min)        # Минимальное значение\n",
    "df_test['max'] = df_test['values'].apply(np.max)        # Максимальное значение\n",
    "df_test['last_value'] = df_test['values'].apply(lambda x: x[-1])  # Последнее значение в списке\n",
    "df_test['sum'] = df_test['values'].apply(np.sum)        # Сумма значений\n",
    "\n",
    "# Коэффициент вариации (отношение стандартного отклонения к среднему)\n",
    "df_test['coef_of_variation'] = df_test['std'] / df_test['mean']\n",
    "\n",
    "# Экспоненциальное скользящее среднее (EMA) с длиной окна 3\n",
    "df_test['ema'] = df_test['values'].apply(lambda x: pd.Series(x).ewm(span=3).mean().iloc[-1])\n",
    "\n",
    "# Линейный тренд (наклон линии регрессии) по значениям\n",
    "df_test['trend_slope'] = df_test['values'].apply(lambda x: linregress(range(len(x)), x)[0])\n",
    "\n",
    "# Длина списка значений\n",
    "df_test['length'] = df_test['values'].apply(len)\n",
    "\n",
    "# Коэффициент эксцесса (kurtosis), характеризующий форму распределения значений\n",
    "df_test['kurtosis'] = df_test['values'].apply(lambda x: pd.Series(x).kurtosis())\n"
   ]
  },
  {
   "cell_type": "markdown",
   "id": "f2b8fb97-2395-48c3-ab41-e0a744aeff5c",
   "metadata": {},
   "source": [
    "## Удалим dates и values"
   ]
  },
  {
   "cell_type": "code",
   "execution_count": null,
   "id": "cbdb2fec-1a25-45ef-b291-3e58eb8b336f",
   "metadata": {},
   "outputs": [],
   "source": [
    "df_test.drop(columns = ['dates','values'], inplace = True)"
   ]
  },
  {
   "cell_type": "markdown",
   "id": "3c3f8024-9766-47b7-b9c0-7d6e02ffbec0",
   "metadata": {
    "execution": {
     "iopub.execute_input": "2024-10-22T14:58:02.780420Z",
     "iopub.status.busy": "2024-10-22T14:58:02.779108Z",
     "iopub.status.idle": "2024-10-22T14:58:02.822834Z",
     "shell.execute_reply": "2024-10-22T14:58:02.821992Z",
     "shell.execute_reply.started": "2024-10-22T14:58:02.780372Z"
    }
   },
   "source": [
    "## Предсказание на test"
   ]
  },
  {
   "cell_type": "code",
   "execution_count": 5,
   "id": "5eb27f77-934f-452e-b973-6ab4747af68d",
   "metadata": {
    "execution": {
     "iopub.execute_input": "2024-10-22T17:31:47.949943Z",
     "iopub.status.busy": "2024-10-22T17:31:47.949043Z",
     "iopub.status.idle": "2024-10-22T17:31:48.014604Z",
     "shell.execute_reply": "2024-10-22T17:31:48.013744Z",
     "shell.execute_reply.started": "2024-10-22T17:31:47.949899Z"
    },
    "tags": []
   },
   "outputs": [
    {
     "data": {
      "text/html": [
       "<a href='result.csv' target='_blank'>result.csv</a><br>"
      ],
      "text/plain": [
       "/home/jupyter/datasphere/vk/result.csv"
      ]
     },
     "execution_count": 5,
     "metadata": {},
     "output_type": "execute_result"
    }
   ],
   "source": [
    "from catboost import CatBoostClassifier\n",
    "\n",
    "# Загрузка модели из файла\n",
    "loaded_model = CatBoostClassifier()  # или CatBoostRegressor\n",
    "loaded_model.load_model('catboost_model.cbm')\n",
    "\n",
    "# Использование загруженной модели для предсказаний\n",
    "y_pred = loaded_model.predict_proba(df_test)\n",
    "\n",
    "\n",
    "##сохранение предсказаний в csv файл\n",
    "from IPython.display import FileLink\n",
    "\n",
    "res = pd.DataFrame(y_pred)\n",
    "res = pd.concat([df_test['id'],res], axis = 1)\n",
    "result = res.rename(columns = {0:'score'})\n",
    "FileLink('result.csv')"
   ]
  },
  {
   "cell_type": "code",
   "execution_count": null,
   "id": "0f3c74c2-59d3-4f07-bb82-1b76e7c72422",
   "metadata": {},
   "outputs": [],
   "source": []
  }
 ],
 "metadata": {
  "kernelspec": {
   "display_name": "DataSphere Kernel",
   "language": "python",
   "name": "python3"
  },
  "language_info": {
   "codemirror_mode": {
    "name": "ipython",
    "version": 3
   },
   "file_extension": ".py",
   "mimetype": "text/x-python",
   "name": "python",
   "nbconvert_exporter": "python",
   "pygments_lexer": "ipython3",
   "version": "3.10.12"
  }
 },
 "nbformat": 4,
 "nbformat_minor": 5
}
