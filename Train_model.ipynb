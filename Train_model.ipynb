{
 "cells": [
  {
   "cell_type": "code",
   "execution_count": 195,
   "id": "ce00db56-6be0-48cc-b4c5-6d2352516d99",
   "metadata": {
    "execution": {
     "iopub.execute_input": "2024-10-22T14:30:42.315509Z",
     "iopub.status.busy": "2024-10-22T14:30:42.314358Z",
     "iopub.status.idle": "2024-10-22T14:30:42.662984Z",
     "shell.execute_reply": "2024-10-22T14:30:42.662191Z",
     "shell.execute_reply.started": "2024-10-22T14:30:42.315474Z"
    },
    "tags": []
   },
   "outputs": [
    {
     "data": {
      "text/html": [
       "<div>\n",
       "<style scoped>\n",
       "    .dataframe tbody tr th:only-of-type {\n",
       "        vertical-align: middle;\n",
       "    }\n",
       "\n",
       "    .dataframe tbody tr th {\n",
       "        vertical-align: top;\n",
       "    }\n",
       "\n",
       "    .dataframe thead th {\n",
       "        text-align: right;\n",
       "    }\n",
       "</style>\n",
       "<table border=\"1\" class=\"dataframe\">\n",
       "  <thead>\n",
       "    <tr style=\"text-align: right;\">\n",
       "      <th></th>\n",
       "      <th>id</th>\n",
       "      <th>dates</th>\n",
       "      <th>values</th>\n",
       "      <th>label</th>\n",
       "    </tr>\n",
       "  </thead>\n",
       "  <tbody>\n",
       "    <tr>\n",
       "      <th>0</th>\n",
       "      <td>19114</td>\n",
       "      <td>[2016-01-01, 2016-02-01, 2016-03-01, 2016-04-0...</td>\n",
       "      <td>[-1.86, 0.79, 1.4, 0.15, 0.0, -1.24, -1.46, 3....</td>\n",
       "      <td>0.0</td>\n",
       "    </tr>\n",
       "    <tr>\n",
       "      <th>1</th>\n",
       "      <td>22769</td>\n",
       "      <td>[2016-05-01, 2016-06-01, 2016-07-01, 2016-08-0...</td>\n",
       "      <td>[-1.04, -3.48, 0.05, -0.13, -0.01, 0.03, 0.27,...</td>\n",
       "      <td>1.0</td>\n",
       "    </tr>\n",
       "    <tr>\n",
       "      <th>2</th>\n",
       "      <td>76935</td>\n",
       "      <td>[2017-03-01, 2017-04-01, 2017-05-01, 2017-06-0...</td>\n",
       "      <td>[0.28, 0.63, 0.06, 0.96, -1.4, -0.3, 1.62, 1.1...</td>\n",
       "      <td>0.0</td>\n",
       "    </tr>\n",
       "    <tr>\n",
       "      <th>3</th>\n",
       "      <td>66297</td>\n",
       "      <td>[2016-01-01, 2016-02-01, 2016-03-01, 2016-04-0...</td>\n",
       "      <td>[-0.33, 0.58, 1.1, -0.56, -0.95, -0.61, -0.7, ...</td>\n",
       "      <td>0.0</td>\n",
       "    </tr>\n",
       "    <tr>\n",
       "      <th>4</th>\n",
       "      <td>2191</td>\n",
       "      <td>[2016-01-01, 2016-02-01, 2016-03-01, 2016-04-0...</td>\n",
       "      <td>[1.31, 0.5, -0.54, 0.95, 0.65, 0.83, -1.55, -0...</td>\n",
       "      <td>0.0</td>\n",
       "    </tr>\n",
       "    <tr>\n",
       "      <th>...</th>\n",
       "      <td>...</td>\n",
       "      <td>...</td>\n",
       "      <td>...</td>\n",
       "      <td>...</td>\n",
       "    </tr>\n",
       "    <tr>\n",
       "      <th>79995</th>\n",
       "      <td>71474</td>\n",
       "      <td>[2018-10-01, 2018-11-01, 2018-12-01, 2019-01-0...</td>\n",
       "      <td>[-0.15, -1.13, -0.87, 0.49, 0.87, 1.67, 1.91, ...</td>\n",
       "      <td>0.0</td>\n",
       "    </tr>\n",
       "    <tr>\n",
       "      <th>79996</th>\n",
       "      <td>36908</td>\n",
       "      <td>[2016-07-01, 2016-08-01, 2016-09-01, 2016-10-0...</td>\n",
       "      <td>[-0.35, -1.31, 0.11, 1.46, 1.28, 1.12, 1.78, 1...</td>\n",
       "      <td>1.0</td>\n",
       "    </tr>\n",
       "    <tr>\n",
       "      <th>79997</th>\n",
       "      <td>63517</td>\n",
       "      <td>[2016-03-01, 2016-04-01, 2016-05-01, 2016-06-0...</td>\n",
       "      <td>[-0.78, -2.27, -1.85, -0.67, -1.2, -2.02, 0.12...</td>\n",
       "      <td>0.0</td>\n",
       "    </tr>\n",
       "    <tr>\n",
       "      <th>79998</th>\n",
       "      <td>94731</td>\n",
       "      <td>[2016-02-01, 2016-03-01, 2016-04-01, 2016-05-0...</td>\n",
       "      <td>[-2.29, -2.85, 0.92, -0.83, -1.75, -1.81, -2.2...</td>\n",
       "      <td>0.0</td>\n",
       "    </tr>\n",
       "    <tr>\n",
       "      <th>79999</th>\n",
       "      <td>98870</td>\n",
       "      <td>[2016-01-01, 2016-02-01, 2016-03-01, 2016-04-0...</td>\n",
       "      <td>[0.12, -0.8, 1.62, 0.11, -0.38, -0.86, -0.85, ...</td>\n",
       "      <td>1.0</td>\n",
       "    </tr>\n",
       "  </tbody>\n",
       "</table>\n",
       "<p>80000 rows × 4 columns</p>\n",
       "</div>"
      ],
      "text/plain": [
       "          id  ... label\n",
       "0      19114  ...   0.0\n",
       "1      22769  ...   1.0\n",
       "2      76935  ...   0.0\n",
       "3      66297  ...   0.0\n",
       "4       2191  ...   0.0\n",
       "...      ...  ...   ...\n",
       "79995  71474  ...   0.0\n",
       "79996  36908  ...   1.0\n",
       "79997  63517  ...   0.0\n",
       "79998  94731  ...   0.0\n",
       "79999  98870  ...   1.0\n",
       "\n",
       "[80000 rows x 4 columns]"
      ]
     },
     "execution_count": 195,
     "metadata": {},
     "output_type": "execute_result"
    }
   ],
   "source": [
    "import pandas as pd\n",
    "import numpy as np\n",
    "\n",
    "df = pd.read_parquet('/home/jupyter/datasphere/vk/train.parquet')\n",
    "\n",
    "df"
   ]
  },
  {
   "cell_type": "code",
   "execution_count": 196,
   "id": "f6422c67-d2a1-4840-896f-3159e09a22d9",
   "metadata": {
    "execution": {
     "iopub.execute_input": "2024-10-22T14:30:42.665170Z",
     "iopub.status.busy": "2024-10-22T14:30:42.664468Z",
     "iopub.status.idle": "2024-10-22T14:30:42.713971Z",
     "shell.execute_reply": "2024-10-22T14:30:42.712961Z",
     "shell.execute_reply.started": "2024-10-22T14:30:42.665135Z"
    },
    "tags": []
   },
   "outputs": [
    {
     "name": "stdout",
     "output_type": "stream",
     "text": [
      "<class 'pandas.core.frame.DataFrame'>\n",
      "RangeIndex: 80000 entries, 0 to 79999\n",
      "Data columns (total 4 columns):\n",
      " #   Column  Non-Null Count  Dtype  \n",
      "---  ------  --------------  -----  \n",
      " 0   id      80000 non-null  int64  \n",
      " 1   dates   80000 non-null  object \n",
      " 2   values  80000 non-null  object \n",
      " 3   label   80000 non-null  float64\n",
      "dtypes: float64(1), int64(1), object(2)\n",
      "memory usage: 2.4+ MB\n",
      "None\n"
     ]
    }
   ],
   "source": [
    "print(df.info())"
   ]
  },
  {
   "cell_type": "code",
   "execution_count": 197,
   "id": "bc0a3781-5851-426e-820d-1c6b51cd5700",
   "metadata": {
    "execution": {
     "iopub.execute_input": "2024-10-22T14:30:42.716620Z",
     "iopub.status.busy": "2024-10-22T14:30:42.715618Z",
     "iopub.status.idle": "2024-10-22T14:30:42.855145Z",
     "shell.execute_reply": "2024-10-22T14:30:42.854288Z",
     "shell.execute_reply.started": "2024-10-22T14:30:42.716563Z"
    },
    "tags": []
   },
   "outputs": [
    {
     "data": {
      "text/html": [
       "<div>\n",
       "<style scoped>\n",
       "    .dataframe tbody tr th:only-of-type {\n",
       "        vertical-align: middle;\n",
       "    }\n",
       "\n",
       "    .dataframe tbody tr th {\n",
       "        vertical-align: top;\n",
       "    }\n",
       "\n",
       "    .dataframe thead th {\n",
       "        text-align: right;\n",
       "    }\n",
       "</style>\n",
       "<table border=\"1\" class=\"dataframe\">\n",
       "  <thead>\n",
       "    <tr style=\"text-align: right;\">\n",
       "      <th></th>\n",
       "      <th>id</th>\n",
       "      <th>dates</th>\n",
       "      <th>values</th>\n",
       "    </tr>\n",
       "  </thead>\n",
       "  <tbody>\n",
       "    <tr>\n",
       "      <th>0</th>\n",
       "      <td>6125</td>\n",
       "      <td>[2016-01-01, 2016-02-01, 2016-03-01, 2016-04-0...</td>\n",
       "      <td>[1.85, -0.04, 0.19, -0.45, -0.75, -0.95, -2.91...</td>\n",
       "    </tr>\n",
       "    <tr>\n",
       "      <th>1</th>\n",
       "      <td>26781</td>\n",
       "      <td>[2016-01-01, 2016-02-01, 2016-03-01, 2016-04-0...</td>\n",
       "      <td>[-0.41, 0.39, -0.47, -0.9, -1.46, -0.51, 0.51,...</td>\n",
       "    </tr>\n",
       "    <tr>\n",
       "      <th>2</th>\n",
       "      <td>13333</td>\n",
       "      <td>[2016-06-01, 2016-07-01, 2016-08-01, 2016-09-0...</td>\n",
       "      <td>[-0.29, -1.26, 0.17, -1.22, 0.45, -0.94, 0.16,...</td>\n",
       "    </tr>\n",
       "    <tr>\n",
       "      <th>3</th>\n",
       "      <td>53218</td>\n",
       "      <td>[2016-01-01, 2016-02-01, 2016-03-01, 2016-04-0...</td>\n",
       "      <td>[-1.47, 1.55, -0.03, 0.57, -0.57, 0.6, 0.27, 1...</td>\n",
       "    </tr>\n",
       "    <tr>\n",
       "      <th>4</th>\n",
       "      <td>84204</td>\n",
       "      <td>[2016-01-01, 2016-02-01, 2016-03-01, 2016-04-0...</td>\n",
       "      <td>[2.33, 1.39, -1.03, -2.64, 1.89, 1.77, 1.43, 1...</td>\n",
       "    </tr>\n",
       "    <tr>\n",
       "      <th>...</th>\n",
       "      <td>...</td>\n",
       "      <td>...</td>\n",
       "      <td>...</td>\n",
       "    </tr>\n",
       "    <tr>\n",
       "      <th>19995</th>\n",
       "      <td>80341</td>\n",
       "      <td>[2016-03-01, 2016-04-01, 2016-05-01, 2016-06-0...</td>\n",
       "      <td>[3.01, -0.58, 1.55, 0.48, -0.35, 1.93, 3.86, 2...</td>\n",
       "    </tr>\n",
       "    <tr>\n",
       "      <th>19996</th>\n",
       "      <td>5891</td>\n",
       "      <td>[2016-01-01, 2016-02-01, 2016-03-01, 2016-04-0...</td>\n",
       "      <td>[0.66, 1.3, 2.78, -0.25, -1.97, -0.55, -1.08, ...</td>\n",
       "    </tr>\n",
       "    <tr>\n",
       "      <th>19997</th>\n",
       "      <td>29091</td>\n",
       "      <td>[2017-01-01, 2017-02-01, 2017-03-01, 2017-04-0...</td>\n",
       "      <td>[0.09, 0.44, 1.55, 0.15, 0.3, 0.19, 0.34, 1.05...</td>\n",
       "    </tr>\n",
       "    <tr>\n",
       "      <th>19998</th>\n",
       "      <td>85877</td>\n",
       "      <td>[2017-04-01, 2017-05-01, 2017-06-01, 2017-07-0...</td>\n",
       "      <td>[0.28, 1.92, 1.14, 2.4, 1.46, 1.08, -0.12, 0.6...</td>\n",
       "    </tr>\n",
       "    <tr>\n",
       "      <th>19999</th>\n",
       "      <td>73528</td>\n",
       "      <td>[2016-01-01, 2016-02-01, 2016-03-01, 2016-04-0...</td>\n",
       "      <td>[0.32, 0.75, 0.57, -0.97, -0.6, -2.9, 1.41, -1...</td>\n",
       "    </tr>\n",
       "  </tbody>\n",
       "</table>\n",
       "<p>20000 rows × 3 columns</p>\n",
       "</div>"
      ],
      "text/plain": [
       "          id  ...                                             values\n",
       "0       6125  ...  [1.85, -0.04, 0.19, -0.45, -0.75, -0.95, -2.91...\n",
       "1      26781  ...  [-0.41, 0.39, -0.47, -0.9, -1.46, -0.51, 0.51,...\n",
       "2      13333  ...  [-0.29, -1.26, 0.17, -1.22, 0.45, -0.94, 0.16,...\n",
       "3      53218  ...  [-1.47, 1.55, -0.03, 0.57, -0.57, 0.6, 0.27, 1...\n",
       "4      84204  ...  [2.33, 1.39, -1.03, -2.64, 1.89, 1.77, 1.43, 1...\n",
       "...      ...  ...                                                ...\n",
       "19995  80341  ...  [3.01, -0.58, 1.55, 0.48, -0.35, 1.93, 3.86, 2...\n",
       "19996   5891  ...  [0.66, 1.3, 2.78, -0.25, -1.97, -0.55, -1.08, ...\n",
       "19997  29091  ...  [0.09, 0.44, 1.55, 0.15, 0.3, 0.19, 0.34, 1.05...\n",
       "19998  85877  ...  [0.28, 1.92, 1.14, 2.4, 1.46, 1.08, -0.12, 0.6...\n",
       "19999  73528  ...  [0.32, 0.75, 0.57, -0.97, -0.6, -2.9, 1.41, -1...\n",
       "\n",
       "[20000 rows x 3 columns]"
      ]
     },
     "execution_count": 197,
     "metadata": {},
     "output_type": "execute_result"
    }
   ],
   "source": [
    "df_test = pd.read_parquet('/home/jupyter/datasphere/vk/test.parquet')\n",
    "df_test "
   ]
  },
  {
   "cell_type": "markdown",
   "id": "a48ba20c-4cb6-4d40-b68c-5ab2f1ca5609",
   "metadata": {},
   "source": [
    "# EDA"
   ]
  },
  {
   "cell_type": "markdown",
   "id": "dbbc3fd1-c33a-4ff9-90c3-f8d7ff8b54c3",
   "metadata": {
    "execution": {
     "iopub.execute_input": "2024-10-21T21:01:14.412461Z",
     "iopub.status.busy": "2024-10-21T21:01:14.411353Z",
     "iopub.status.idle": "2024-10-21T21:01:14.458918Z",
     "shell.execute_reply": "2024-10-21T21:01:14.458078Z",
     "shell.execute_reply.started": "2024-10-21T21:01:14.412418Z"
    }
   },
   "source": [
    "## Проверка гипотезы о нормальном распределении с помощью теста Шапиро"
   ]
  },
  {
   "cell_type": "code",
   "execution_count": 198,
   "id": "dbeb0aa1-d72f-4e50-bbbf-70ca72e10b61",
   "metadata": {
    "execution": {
     "iopub.execute_input": "2024-10-22T14:30:42.999058Z",
     "iopub.status.busy": "2024-10-22T14:30:42.998046Z",
     "iopub.status.idle": "2024-10-22T14:30:43.037602Z",
     "shell.execute_reply": "2024-10-22T14:30:43.036698Z",
     "shell.execute_reply.started": "2024-10-22T14:30:42.999012Z"
    },
    "tags": []
   },
   "outputs": [
    {
     "data": {
      "text/plain": [
       "0.0    57820\n",
       "1.0    22180\n",
       "Name: label, dtype: int64"
      ]
     },
     "execution_count": 198,
     "metadata": {},
     "output_type": "execute_result"
    }
   ],
   "source": [
    "df['label'].value_counts()"
   ]
  },
  {
   "cell_type": "code",
   "execution_count": 199,
   "id": "96b1697a-e132-4908-8f67-66fecf23f329",
   "metadata": {
    "execution": {
     "iopub.execute_input": "2024-10-22T14:30:43.103905Z",
     "iopub.status.busy": "2024-10-22T14:30:43.102831Z",
     "iopub.status.idle": "2024-10-22T14:30:45.713192Z",
     "shell.execute_reply": "2024-10-22T14:30:45.712265Z",
     "shell.execute_reply.started": "2024-10-22T14:30:43.103861Z"
    },
    "tags": []
   },
   "outputs": [],
   "source": [
    "import pandas as pd\n",
    "import numpy as np\n",
    "from scipy.stats import shapiro\n",
    "\n",
    "def check_normality(values):\n",
    "    # Применяем тест Шапиро-Уилка\n",
    "    stat, p_value = shapiro(values)\n",
    "    # Уровень значимости\n",
    "    alpha = 0.05\n",
    "    # Проверка гипотезы\n",
    "    if p_value > alpha:\n",
    "        return True  # Данные нормально распределены\n",
    "    else:\n",
    "        return False  # Данные не нормально распределены\n",
    "\n",
    "# Применяем функцию к каждому массиву значений\n",
    "df['is_normal'] = df['values'].apply(check_normality)"
   ]
  },
  {
   "cell_type": "code",
   "execution_count": 200,
   "id": "3df8a4ca-a0c2-4723-a5c4-ca038822afaf",
   "metadata": {
    "execution": {
     "iopub.execute_input": "2024-10-22T14:30:45.715942Z",
     "iopub.status.busy": "2024-10-22T14:30:45.714605Z",
     "iopub.status.idle": "2024-10-22T14:30:45.732502Z",
     "shell.execute_reply": "2024-10-22T14:30:45.731687Z",
     "shell.execute_reply.started": "2024-10-22T14:30:45.715908Z"
    },
    "tags": []
   },
   "outputs": [
    {
     "data": {
      "text/plain": [
       "53485"
      ]
     },
     "execution_count": 200,
     "metadata": {},
     "output_type": "execute_result"
    }
   ],
   "source": [
    "df['is_normal'].sum() ## В елом видно, что 66 процентов данных в values распределены нормально"
   ]
  },
  {
   "cell_type": "code",
   "execution_count": 201,
   "id": "b6bb0961-fa1d-4825-9d40-2e0c3e7c09da",
   "metadata": {
    "execution": {
     "iopub.execute_input": "2024-10-22T14:30:45.734624Z",
     "iopub.status.busy": "2024-10-22T14:30:45.733577Z",
     "iopub.status.idle": "2024-10-22T14:30:51.036734Z",
     "shell.execute_reply": "2024-10-22T14:30:51.035811Z",
     "shell.execute_reply.started": "2024-10-22T14:30:45.734585Z"
    },
    "tags": []
   },
   "outputs": [
    {
     "name": "stdout",
     "output_type": "stream",
     "text": [
      "          id  ... is_normal\n",
      "0      19114  ...      True\n",
      "1      22769  ...      True\n",
      "2      76935  ...      True\n",
      "3      66297  ...      True\n",
      "4       2191  ...      True\n",
      "...      ...  ...       ...\n",
      "79995  71474  ...     False\n",
      "79996  36908  ...      True\n",
      "79997  63517  ...      True\n",
      "79998  94731  ...     False\n",
      "79999  98870  ...      True\n",
      "\n",
      "[80000 rows x 5 columns]\n"
     ]
    }
   ],
   "source": [
    "# Функция для замены выбросов\n",
    "def replace_outliers(row):\n",
    "    values = np.array(row['values'])\n",
    "    mean = np.mean(values)\n",
    "    std = np.std(values)\n",
    "    \n",
    "    # Определение границ для выбросов\n",
    "    lower_bound = mean - 3 * std\n",
    "    upper_bound = mean + 3 * std\n",
    "    \n",
    "    # Замена выбросов на медиану\n",
    "    median_value = np.mean(values)\n",
    "    values = np.where((values < lower_bound) | (values > upper_bound), median_value, values)\n",
    "    \n",
    "    return values.tolist()\n",
    "\n",
    "# Применение функции к каждой строке\n",
    "df['values'] = df.apply(replace_outliers, axis=1)\n",
    "\n",
    "print(df)\n"
   ]
  },
  {
   "cell_type": "code",
   "execution_count": 202,
   "id": "72ad616a-76e7-4116-9c91-e42fd9f549d7",
   "metadata": {
    "execution": {
     "iopub.execute_input": "2024-10-22T14:30:51.039530Z",
     "iopub.status.busy": "2024-10-22T14:30:51.038652Z",
     "iopub.status.idle": "2024-10-22T14:30:51.104468Z",
     "shell.execute_reply": "2024-10-22T14:30:51.103594Z",
     "shell.execute_reply.started": "2024-10-22T14:30:51.039494Z"
    },
    "tags": []
   },
   "outputs": [
    {
     "data": {
      "text/html": [
       "<div>\n",
       "<style scoped>\n",
       "    .dataframe tbody tr th:only-of-type {\n",
       "        vertical-align: middle;\n",
       "    }\n",
       "\n",
       "    .dataframe tbody tr th {\n",
       "        vertical-align: top;\n",
       "    }\n",
       "\n",
       "    .dataframe thead th {\n",
       "        text-align: right;\n",
       "    }\n",
       "</style>\n",
       "<table border=\"1\" class=\"dataframe\">\n",
       "  <thead>\n",
       "    <tr style=\"text-align: right;\">\n",
       "      <th></th>\n",
       "      <th>id</th>\n",
       "      <th>dates</th>\n",
       "      <th>values</th>\n",
       "      <th>label</th>\n",
       "      <th>is_normal</th>\n",
       "    </tr>\n",
       "  </thead>\n",
       "  <tbody>\n",
       "    <tr>\n",
       "      <th>0</th>\n",
       "      <td>19114</td>\n",
       "      <td>[2016-01-01, 2016-02-01, 2016-03-01, 2016-04-0...</td>\n",
       "      <td>[-1.86, 0.79, 1.4, 0.15, 0.0, -1.24, -1.46, 3....</td>\n",
       "      <td>0.0</td>\n",
       "      <td>True</td>\n",
       "    </tr>\n",
       "    <tr>\n",
       "      <th>1</th>\n",
       "      <td>22769</td>\n",
       "      <td>[2016-05-01, 2016-06-01, 2016-07-01, 2016-08-0...</td>\n",
       "      <td>[-1.04, -3.48, 0.05, -0.13, -0.01, 0.03, 0.27,...</td>\n",
       "      <td>1.0</td>\n",
       "      <td>True</td>\n",
       "    </tr>\n",
       "    <tr>\n",
       "      <th>2</th>\n",
       "      <td>76935</td>\n",
       "      <td>[2017-03-01, 2017-04-01, 2017-05-01, 2017-06-0...</td>\n",
       "      <td>[0.28, 0.63, 0.06, 0.96, -1.4, -0.3, 1.62, 1.1...</td>\n",
       "      <td>0.0</td>\n",
       "      <td>True</td>\n",
       "    </tr>\n",
       "    <tr>\n",
       "      <th>3</th>\n",
       "      <td>66297</td>\n",
       "      <td>[2016-01-01, 2016-02-01, 2016-03-01, 2016-04-0...</td>\n",
       "      <td>[-0.33, 0.58, 1.1, -0.56, -0.95, -0.61, -0.7, ...</td>\n",
       "      <td>0.0</td>\n",
       "      <td>True</td>\n",
       "    </tr>\n",
       "    <tr>\n",
       "      <th>4</th>\n",
       "      <td>2191</td>\n",
       "      <td>[2016-01-01, 2016-02-01, 2016-03-01, 2016-04-0...</td>\n",
       "      <td>[1.31, 0.5, -0.54, 0.95, 0.65, 0.83, -1.55, -0...</td>\n",
       "      <td>0.0</td>\n",
       "      <td>True</td>\n",
       "    </tr>\n",
       "    <tr>\n",
       "      <th>...</th>\n",
       "      <td>...</td>\n",
       "      <td>...</td>\n",
       "      <td>...</td>\n",
       "      <td>...</td>\n",
       "      <td>...</td>\n",
       "    </tr>\n",
       "    <tr>\n",
       "      <th>79995</th>\n",
       "      <td>71474</td>\n",
       "      <td>[2018-10-01, 2018-11-01, 2018-12-01, 2019-01-0...</td>\n",
       "      <td>[-0.15, -1.13, -0.87, 0.49, 0.87, 1.67, 1.91, ...</td>\n",
       "      <td>0.0</td>\n",
       "      <td>False</td>\n",
       "    </tr>\n",
       "    <tr>\n",
       "      <th>79996</th>\n",
       "      <td>36908</td>\n",
       "      <td>[2016-07-01, 2016-08-01, 2016-09-01, 2016-10-0...</td>\n",
       "      <td>[-0.35, -1.31, 0.11, 1.46, 1.28, 1.12, 1.78, 1...</td>\n",
       "      <td>1.0</td>\n",
       "      <td>True</td>\n",
       "    </tr>\n",
       "    <tr>\n",
       "      <th>79997</th>\n",
       "      <td>63517</td>\n",
       "      <td>[2016-03-01, 2016-04-01, 2016-05-01, 2016-06-0...</td>\n",
       "      <td>[-0.78, -2.27, -1.85, -0.67, -1.2, -2.02, 0.12...</td>\n",
       "      <td>0.0</td>\n",
       "      <td>True</td>\n",
       "    </tr>\n",
       "    <tr>\n",
       "      <th>79998</th>\n",
       "      <td>94731</td>\n",
       "      <td>[2016-02-01, 2016-03-01, 2016-04-01, 2016-05-0...</td>\n",
       "      <td>[-2.29, -2.85, 0.92, -0.83, -1.75, -1.81, -2.2...</td>\n",
       "      <td>0.0</td>\n",
       "      <td>False</td>\n",
       "    </tr>\n",
       "    <tr>\n",
       "      <th>79999</th>\n",
       "      <td>98870</td>\n",
       "      <td>[2016-01-01, 2016-02-01, 2016-03-01, 2016-04-0...</td>\n",
       "      <td>[0.12, -0.8, 1.62, 0.11, -0.38, -0.86, -0.85, ...</td>\n",
       "      <td>1.0</td>\n",
       "      <td>True</td>\n",
       "    </tr>\n",
       "  </tbody>\n",
       "</table>\n",
       "<p>80000 rows × 5 columns</p>\n",
       "</div>"
      ],
      "text/plain": [
       "          id  ... is_normal\n",
       "0      19114  ...      True\n",
       "1      22769  ...      True\n",
       "2      76935  ...      True\n",
       "3      66297  ...      True\n",
       "4       2191  ...      True\n",
       "...      ...  ...       ...\n",
       "79995  71474  ...     False\n",
       "79996  36908  ...      True\n",
       "79997  63517  ...      True\n",
       "79998  94731  ...     False\n",
       "79999  98870  ...      True\n",
       "\n",
       "[80000 rows x 5 columns]"
      ]
     },
     "execution_count": 202,
     "metadata": {},
     "output_type": "execute_result"
    }
   ],
   "source": [
    "df"
   ]
  },
  {
   "cell_type": "code",
   "execution_count": 203,
   "id": "772b8bfe-382a-45d0-9918-feada359f8a7",
   "metadata": {
    "execution": {
     "iopub.execute_input": "2024-10-22T14:30:51.106609Z",
     "iopub.status.busy": "2024-10-22T14:30:51.105734Z",
     "iopub.status.idle": "2024-10-22T14:30:54.059559Z",
     "shell.execute_reply": "2024-10-22T14:30:54.058756Z",
     "shell.execute_reply.started": "2024-10-22T14:30:51.106573Z"
    },
    "tags": []
   },
   "outputs": [],
   "source": [
    "## проверим на нормальность  еще раз\n",
    "\n",
    "def check_normality(values):\n",
    "    # Применяем тест Шапиро-Уилка\n",
    "    stat, p_value = shapiro(values)\n",
    "    # Уровень значимости\n",
    "    alpha = 0.05\n",
    "    # Проверка гипотезы\n",
    "    if p_value > alpha:\n",
    "        return True  # Данные нормально распределены\n",
    "    else:\n",
    "        return False  # Данные не нормально распределены\n",
    "\n",
    "# Применяем функцию к каждому массиву значений\n",
    "df['is_normal'] = df['values'].apply(check_normality)"
   ]
  },
  {
   "cell_type": "code",
   "execution_count": 205,
   "id": "f042554a-5d7c-4e47-a993-b1b22c63daed",
   "metadata": {
    "execution": {
     "iopub.execute_input": "2024-10-22T14:30:56.479529Z",
     "iopub.status.busy": "2024-10-22T14:30:56.478428Z",
     "iopub.status.idle": "2024-10-22T14:30:56.491644Z",
     "shell.execute_reply": "2024-10-22T14:30:56.490931Z",
     "shell.execute_reply.started": "2024-10-22T14:30:56.479487Z"
    },
    "tags": []
   },
   "outputs": [
    {
     "data": {
      "text/plain": [
       "57902"
      ]
     },
     "execution_count": 205,
     "metadata": {},
     "output_type": "execute_result"
    }
   ],
   "source": [
    "df['is_normal'].sum() ## теперь 72 процента"
   ]
  },
  {
   "cell_type": "code",
   "execution_count": 206,
   "id": "7aba7146-a742-4a43-a85a-1f283b677270",
   "metadata": {
    "execution": {
     "iopub.execute_input": "2024-10-22T14:30:56.957053Z",
     "iopub.status.busy": "2024-10-22T14:30:56.955993Z",
     "iopub.status.idle": "2024-10-22T14:30:57.434530Z",
     "shell.execute_reply": "2024-10-22T14:30:57.433672Z",
     "shell.execute_reply.started": "2024-10-22T14:30:56.957009Z"
    },
    "tags": []
   },
   "outputs": [
    {
     "data": {
      "image/png": "[encoded data removed]",
      "text/plain": [
       "<Figure size 640x480 with 1 Axes>"
      ]
     },
     "metadata": {},
     "output_type": "display_data"
    },
    {
     "data": {
      "image/png": "[encoded data removed]",
      "text/plain": [
       "<Figure size 640x480 with 1 Axes>"
      ]
     },
     "metadata": {},
     "output_type": "display_data"
    }
   ],
   "source": [
    "def plot_autocorrelation(values, title):\n",
    "    pd.plotting.autocorrelation_plot(values)\n",
    "    plt.title(title)\n",
    "    plt.show()\n",
    "\n",
    "i = 0\n",
    "for idx, row in df.iterrows():\n",
    "    if i==2:\n",
    "        break\n",
    "    \n",
    "    plot_autocorrelation(row['values'], f\"Autocorrelation for ID {row['id']}\")\n",
    "    i+=1"
   ]
  },
  {
   "cell_type": "code",
   "execution_count": 207,
   "id": "7c9b52e3-97d6-461d-b078-8a4e3ace9832",
   "metadata": {
    "execution": {
     "iopub.execute_input": "2024-10-22T14:30:58.342958Z",
     "iopub.status.busy": "2024-10-22T14:30:58.341949Z",
     "iopub.status.idle": "2024-10-22T14:30:58.362839Z",
     "shell.execute_reply": "2024-10-22T14:30:58.362052Z",
     "shell.execute_reply.started": "2024-10-22T14:30:58.342916Z"
    },
    "tags": []
   },
   "outputs": [],
   "source": [
    "df.drop(columns = 'is_normal', inplace = True)"
   ]
  },
  {
   "cell_type": "code",
   "execution_count": 208,
   "id": "2dff5336-2c88-43a5-8958-7516ec3f59c3",
   "metadata": {
    "execution": {
     "iopub.execute_input": "2024-10-22T14:30:59.211096Z",
     "iopub.status.busy": "2024-10-22T14:30:59.210032Z",
     "iopub.status.idle": "2024-10-22T14:30:59.243913Z",
     "shell.execute_reply": "2024-10-22T14:30:59.243195Z",
     "shell.execute_reply.started": "2024-10-22T14:30:59.211055Z"
    },
    "tags": []
   },
   "outputs": [
    {
     "data": {
      "text/html": [
       "<div>\n",
       "<style scoped>\n",
       "    .dataframe tbody tr th:only-of-type {\n",
       "        vertical-align: middle;\n",
       "    }\n",
       "\n",
       "    .dataframe tbody tr th {\n",
       "        vertical-align: top;\n",
       "    }\n",
       "\n",
       "    .dataframe thead th {\n",
       "        text-align: right;\n",
       "    }\n",
       "</style>\n",
       "<table border=\"1\" class=\"dataframe\">\n",
       "  <thead>\n",
       "    <tr style=\"text-align: right;\">\n",
       "      <th></th>\n",
       "      <th>id</th>\n",
       "      <th>dates</th>\n",
       "      <th>values</th>\n",
       "      <th>label</th>\n",
       "    </tr>\n",
       "  </thead>\n",
       "  <tbody>\n",
       "    <tr>\n",
       "      <th>0</th>\n",
       "      <td>19114</td>\n",
       "      <td>[2016-01-01, 2016-02-01, 2016-03-01, 2016-04-0...</td>\n",
       "      <td>[-1.86, 0.79, 1.4, 0.15, 0.0, -1.24, -1.46, 3....</td>\n",
       "      <td>0.0</td>\n",
       "    </tr>\n",
       "    <tr>\n",
       "      <th>1</th>\n",
       "      <td>22769</td>\n",
       "      <td>[2016-05-01, 2016-06-01, 2016-07-01, 2016-08-0...</td>\n",
       "      <td>[-1.04, -3.48, 0.05, -0.13, -0.01, 0.03, 0.27,...</td>\n",
       "      <td>1.0</td>\n",
       "    </tr>\n",
       "    <tr>\n",
       "      <th>2</th>\n",
       "      <td>76935</td>\n",
       "      <td>[2017-03-01, 2017-04-01, 2017-05-01, 2017-06-0...</td>\n",
       "      <td>[0.28, 0.63, 0.06, 0.96, -1.4, -0.3, 1.62, 1.1...</td>\n",
       "      <td>0.0</td>\n",
       "    </tr>\n",
       "    <tr>\n",
       "      <th>3</th>\n",
       "      <td>66297</td>\n",
       "      <td>[2016-01-01, 2016-02-01, 2016-03-01, 2016-04-0...</td>\n",
       "      <td>[-0.33, 0.58, 1.1, -0.56, -0.95, -0.61, -0.7, ...</td>\n",
       "      <td>0.0</td>\n",
       "    </tr>\n",
       "    <tr>\n",
       "      <th>4</th>\n",
       "      <td>2191</td>\n",
       "      <td>[2016-01-01, 2016-02-01, 2016-03-01, 2016-04-0...</td>\n",
       "      <td>[1.31, 0.5, -0.54, 0.95, 0.65, 0.83, -1.55, -0...</td>\n",
       "      <td>0.0</td>\n",
       "    </tr>\n",
       "    <tr>\n",
       "      <th>...</th>\n",
       "      <td>...</td>\n",
       "      <td>...</td>\n",
       "      <td>...</td>\n",
       "      <td>...</td>\n",
       "    </tr>\n",
       "    <tr>\n",
       "      <th>79995</th>\n",
       "      <td>71474</td>\n",
       "      <td>[2018-10-01, 2018-11-01, 2018-12-01, 2019-01-0...</td>\n",
       "      <td>[-0.15, -1.13, -0.87, 0.49, 0.87, 1.67, 1.91, ...</td>\n",
       "      <td>0.0</td>\n",
       "    </tr>\n",
       "    <tr>\n",
       "      <th>79996</th>\n",
       "      <td>36908</td>\n",
       "      <td>[2016-07-01, 2016-08-01, 2016-09-01, 2016-10-0...</td>\n",
       "      <td>[-0.35, -1.31, 0.11, 1.46, 1.28, 1.12, 1.78, 1...</td>\n",
       "      <td>1.0</td>\n",
       "    </tr>\n",
       "    <tr>\n",
       "      <th>79997</th>\n",
       "      <td>63517</td>\n",
       "      <td>[2016-03-01, 2016-04-01, 2016-05-01, 2016-06-0...</td>\n",
       "      <td>[-0.78, -2.27, -1.85, -0.67, -1.2, -2.02, 0.12...</td>\n",
       "      <td>0.0</td>\n",
       "    </tr>\n",
       "    <tr>\n",
       "      <th>79998</th>\n",
       "      <td>94731</td>\n",
       "      <td>[2016-02-01, 2016-03-01, 2016-04-01, 2016-05-0...</td>\n",
       "      <td>[-2.29, -2.85, 0.92, -0.83, -1.75, -1.81, -2.2...</td>\n",
       "      <td>0.0</td>\n",
       "    </tr>\n",
       "    <tr>\n",
       "      <th>79999</th>\n",
       "      <td>98870</td>\n",
       "      <td>[2016-01-01, 2016-02-01, 2016-03-01, 2016-04-0...</td>\n",
       "      <td>[0.12, -0.8, 1.62, 0.11, -0.38, -0.86, -0.85, ...</td>\n",
       "      <td>1.0</td>\n",
       "    </tr>\n",
       "  </tbody>\n",
       "</table>\n",
       "<p>80000 rows × 4 columns</p>\n",
       "</div>"
      ],
      "text/plain": [
       "          id  ... label\n",
       "0      19114  ...   0.0\n",
       "1      22769  ...   1.0\n",
       "2      76935  ...   0.0\n",
       "3      66297  ...   0.0\n",
       "4       2191  ...   0.0\n",
       "...      ...  ...   ...\n",
       "79995  71474  ...   0.0\n",
       "79996  36908  ...   1.0\n",
       "79997  63517  ...   0.0\n",
       "79998  94731  ...   0.0\n",
       "79999  98870  ...   1.0\n",
       "\n",
       "[80000 rows x 4 columns]"
      ]
     },
     "execution_count": 208,
     "metadata": {},
     "output_type": "execute_result"
    }
   ],
   "source": [
    "df"
   ]
  },
  {
   "cell_type": "code",
   "execution_count": 209,
   "id": "d32c8235-f33e-4e92-9ae9-0309334e9512",
   "metadata": {
    "execution": {
     "iopub.execute_input": "2024-10-22T14:31:02.144075Z",
     "iopub.status.busy": "2024-10-22T14:31:02.143030Z",
     "iopub.status.idle": "2024-10-22T14:31:21.018154Z",
     "shell.execute_reply": "2024-10-22T14:31:21.017208Z",
     "shell.execute_reply.started": "2024-10-22T14:31:02.144032Z"
    },
    "tags": []
   },
   "outputs": [],
   "source": [
    "import pandas as pd\n",
    "\n",
    "# Преобразование строковых дат в datetime\n",
    "df['dates'] = df['dates'].apply(lambda x: pd.to_datetime(x))\n",
    "\n",
    "# Признаки\n",
    "df['start_date'] = df['dates'].apply(lambda x: x[0])  # первая дата\n",
    "df['end_date'] = df['dates'].apply(lambda x: x[-1])   # последняя дата\n",
    "df['duration_days'] = df['end_date'] - df['start_date']  # продолжительность периода\n",
    "\n",
    "# Пример извлечения года и месяца из первой даты\n",
    "df['start_year'] = df['start_date'].apply(lambda x: x.year)\n",
    "df['start_month'] = df['start_date'].apply(lambda x: x.month)\n",
    "\n",
    "# Пример извлечения среднего временного интервала между датами\n",
    "df['mean_interval_days'] = df['dates'].apply(lambda x: (x[-1] - x[0]).days / len(x) if len(x) > 1 else 0)\n"
   ]
  },
  {
   "cell_type": "code",
   "execution_count": 210,
   "id": "8f8d9a33-9ca3-44d9-a378-bd0b33eb6bbb",
   "metadata": {
    "execution": {
     "iopub.execute_input": "2024-10-22T14:31:21.020626Z",
     "iopub.status.busy": "2024-10-22T14:31:21.019629Z",
     "iopub.status.idle": "2024-10-22T14:31:21.090642Z",
     "shell.execute_reply": "2024-10-22T14:31:21.089700Z",
     "shell.execute_reply.started": "2024-10-22T14:31:21.020598Z"
    },
    "tags": []
   },
   "outputs": [],
   "source": [
    "df.drop(columns = 'dates', inplace = True)"
   ]
  },
  {
   "cell_type": "code",
   "execution_count": 211,
   "id": "435956b6-e5ac-4e10-a94e-0cba0383ab17",
   "metadata": {
    "execution": {
     "iopub.execute_input": "2024-10-22T14:31:21.093337Z",
     "iopub.status.busy": "2024-10-22T14:31:21.091974Z",
     "iopub.status.idle": "2024-10-22T14:31:21.146538Z",
     "shell.execute_reply": "2024-10-22T14:31:21.145684Z",
     "shell.execute_reply.started": "2024-10-22T14:31:21.093292Z"
    },
    "tags": []
   },
   "outputs": [
    {
     "data": {
      "text/html": [
       "<div>\n",
       "<style scoped>\n",
       "    .dataframe tbody tr th:only-of-type {\n",
       "        vertical-align: middle;\n",
       "    }\n",
       "\n",
       "    .dataframe tbody tr th {\n",
       "        vertical-align: top;\n",
       "    }\n",
       "\n",
       "    .dataframe thead th {\n",
       "        text-align: right;\n",
       "    }\n",
       "</style>\n",
       "<table border=\"1\" class=\"dataframe\">\n",
       "  <thead>\n",
       "    <tr style=\"text-align: right;\">\n",
       "      <th></th>\n",
       "      <th>id</th>\n",
       "      <th>values</th>\n",
       "      <th>label</th>\n",
       "      <th>start_date</th>\n",
       "      <th>end_date</th>\n",
       "      <th>duration_days</th>\n",
       "      <th>start_year</th>\n",
       "      <th>start_month</th>\n",
       "      <th>mean_interval_days</th>\n",
       "    </tr>\n",
       "  </thead>\n",
       "  <tbody>\n",
       "    <tr>\n",
       "      <th>0</th>\n",
       "      <td>19114</td>\n",
       "      <td>[-1.86, 0.79, 1.4, 0.15, 0.0, -1.24, -1.46, 3....</td>\n",
       "      <td>0.0</td>\n",
       "      <td>2016-01-01</td>\n",
       "      <td>2021-02-01</td>\n",
       "      <td>1858 days</td>\n",
       "      <td>2016</td>\n",
       "      <td>1</td>\n",
       "      <td>29.967742</td>\n",
       "    </tr>\n",
       "    <tr>\n",
       "      <th>1</th>\n",
       "      <td>22769</td>\n",
       "      <td>[-1.04, -3.48, 0.05, -0.13, -0.01, 0.03, 0.27,...</td>\n",
       "      <td>1.0</td>\n",
       "      <td>2016-05-01</td>\n",
       "      <td>2020-01-01</td>\n",
       "      <td>1340 days</td>\n",
       "      <td>2016</td>\n",
       "      <td>5</td>\n",
       "      <td>29.777778</td>\n",
       "    </tr>\n",
       "    <tr>\n",
       "      <th>2</th>\n",
       "      <td>76935</td>\n",
       "      <td>[0.28, 0.63, 0.06, 0.96, -1.4, -0.3, 1.62, 1.1...</td>\n",
       "      <td>0.0</td>\n",
       "      <td>2017-03-01</td>\n",
       "      <td>2021-02-01</td>\n",
       "      <td>1433 days</td>\n",
       "      <td>2017</td>\n",
       "      <td>3</td>\n",
       "      <td>29.854167</td>\n",
       "    </tr>\n",
       "    <tr>\n",
       "      <th>3</th>\n",
       "      <td>66297</td>\n",
       "      <td>[-0.33, 0.58, 1.1, -0.56, -0.95, -0.61, -0.7, ...</td>\n",
       "      <td>0.0</td>\n",
       "      <td>2016-01-01</td>\n",
       "      <td>2019-12-01</td>\n",
       "      <td>1430 days</td>\n",
       "      <td>2016</td>\n",
       "      <td>1</td>\n",
       "      <td>29.791667</td>\n",
       "    </tr>\n",
       "    <tr>\n",
       "      <th>4</th>\n",
       "      <td>2191</td>\n",
       "      <td>[1.31, 0.5, -0.54, 0.95, 0.65, 0.83, -1.55, -0...</td>\n",
       "      <td>0.0</td>\n",
       "      <td>2016-01-01</td>\n",
       "      <td>2020-08-01</td>\n",
       "      <td>1674 days</td>\n",
       "      <td>2016</td>\n",
       "      <td>1</td>\n",
       "      <td>29.892857</td>\n",
       "    </tr>\n",
       "    <tr>\n",
       "      <th>...</th>\n",
       "      <td>...</td>\n",
       "      <td>...</td>\n",
       "      <td>...</td>\n",
       "      <td>...</td>\n",
       "      <td>...</td>\n",
       "      <td>...</td>\n",
       "      <td>...</td>\n",
       "      <td>...</td>\n",
       "      <td>...</td>\n",
       "    </tr>\n",
       "    <tr>\n",
       "      <th>79995</th>\n",
       "      <td>71474</td>\n",
       "      <td>[-0.15, -1.13, -0.87, 0.49, 0.87, 1.67, 1.91, ...</td>\n",
       "      <td>0.0</td>\n",
       "      <td>2018-10-01</td>\n",
       "      <td>2023-04-01</td>\n",
       "      <td>1643 days</td>\n",
       "      <td>2018</td>\n",
       "      <td>10</td>\n",
       "      <td>29.872727</td>\n",
       "    </tr>\n",
       "    <tr>\n",
       "      <th>79996</th>\n",
       "      <td>36908</td>\n",
       "      <td>[-0.35, -1.31, 0.11, 1.46, 1.28, 1.12, 1.78, 1...</td>\n",
       "      <td>1.0</td>\n",
       "      <td>2016-07-01</td>\n",
       "      <td>2020-11-01</td>\n",
       "      <td>1584 days</td>\n",
       "      <td>2016</td>\n",
       "      <td>7</td>\n",
       "      <td>29.886792</td>\n",
       "    </tr>\n",
       "    <tr>\n",
       "      <th>79997</th>\n",
       "      <td>63517</td>\n",
       "      <td>[-0.78, -2.27, -1.85, -0.67, -1.2, -2.02, 0.12...</td>\n",
       "      <td>0.0</td>\n",
       "      <td>2016-03-01</td>\n",
       "      <td>2020-05-01</td>\n",
       "      <td>1522 days</td>\n",
       "      <td>2016</td>\n",
       "      <td>3</td>\n",
       "      <td>29.843137</td>\n",
       "    </tr>\n",
       "    <tr>\n",
       "      <th>79998</th>\n",
       "      <td>94731</td>\n",
       "      <td>[-2.29, -2.85, 0.92, -0.83, -1.75, -1.81, -2.2...</td>\n",
       "      <td>0.0</td>\n",
       "      <td>2016-02-01</td>\n",
       "      <td>2021-04-01</td>\n",
       "      <td>1886 days</td>\n",
       "      <td>2016</td>\n",
       "      <td>2</td>\n",
       "      <td>29.936508</td>\n",
       "    </tr>\n",
       "    <tr>\n",
       "      <th>79999</th>\n",
       "      <td>98870</td>\n",
       "      <td>[0.12, -0.8, 1.62, 0.11, -0.38, -0.86, -0.85, ...</td>\n",
       "      <td>1.0</td>\n",
       "      <td>2016-01-01</td>\n",
       "      <td>2020-03-01</td>\n",
       "      <td>1521 days</td>\n",
       "      <td>2016</td>\n",
       "      <td>1</td>\n",
       "      <td>29.823529</td>\n",
       "    </tr>\n",
       "  </tbody>\n",
       "</table>\n",
       "<p>80000 rows × 9 columns</p>\n",
       "</div>"
      ],
      "text/plain": [
       "          id  ... mean_interval_days\n",
       "0      19114  ...          29.967742\n",
       "1      22769  ...          29.777778\n",
       "2      76935  ...          29.854167\n",
       "3      66297  ...          29.791667\n",
       "4       2191  ...          29.892857\n",
       "...      ...  ...                ...\n",
       "79995  71474  ...          29.872727\n",
       "79996  36908  ...          29.886792\n",
       "79997  63517  ...          29.843137\n",
       "79998  94731  ...          29.936508\n",
       "79999  98870  ...          29.823529\n",
       "\n",
       "[80000 rows x 9 columns]"
      ]
     },
     "execution_count": 211,
     "metadata": {},
     "output_type": "execute_result"
    }
   ],
   "source": [
    "df"
   ]
  },
  {
   "cell_type": "markdown",
   "id": "5ed94636-5234-4285-92b2-0f90277f753b",
   "metadata": {},
   "source": [
    "## Заменяем каждую строку в values на отдельный признак"
   ]
  },
  {
   "cell_type": "code",
   "execution_count": 212,
   "id": "ec6c2c2b-9e76-4214-9d40-a39084d97e1b",
   "metadata": {
    "execution": {
     "iopub.execute_input": "2024-10-22T14:31:24.105937Z",
     "iopub.status.busy": "2024-10-22T14:31:24.104880Z",
     "iopub.status.idle": "2024-10-22T14:32:00.455005Z",
     "shell.execute_reply": "2024-10-22T14:32:00.454096Z",
     "shell.execute_reply.started": "2024-10-22T14:31:24.105895Z"
    },
    "tags": []
   },
   "outputs": [],
   "source": [
    "# Агрегация\n",
    "df['median'] = df['values'].apply(np.median)\n",
    "df['mean'] = df['values'].apply(np.mean)\n",
    "df['std'] = df['values'].apply(np.std)\n",
    "df['min'] = df['values'].apply(np.min)\n",
    "df['max'] = df['values'].apply(np.max)\n",
    "df['last_value']  = df['values'].apply(lambda x: x[-1])\n",
    "df['sum'] = df['values'].apply(np.sum)\n",
    "df['coef_of_variation'] = df['std'] / df['mean']\n",
    "df['ema'] = df['values'].apply(lambda x: pd.Series(x).ewm(span=3).mean().iloc[-1])\n",
    "from scipy.stats import linregress\n",
    "df['trend_slope'] = df['values'].apply(lambda x: linregress(range(len(x)), x)[0])\n",
    "df['length'] = df['values'].apply(len)\n",
    "df['kurtosis'] = df['values'].apply(lambda x: pd.Series(x).kurtosis())\n"
   ]
  },
  {
   "cell_type": "code",
   "execution_count": 213,
   "id": "9bcad484-1d23-4f5d-8e6f-2c259c94f05f",
   "metadata": {
    "execution": {
     "iopub.execute_input": "2024-10-22T14:32:11.739324Z",
     "iopub.status.busy": "2024-10-22T14:32:11.738135Z",
     "iopub.status.idle": "2024-10-22T14:32:11.765101Z",
     "shell.execute_reply": "2024-10-22T14:32:11.764353Z",
     "shell.execute_reply.started": "2024-10-22T14:32:11.739282Z"
    },
    "tags": []
   },
   "outputs": [],
   "source": [
    "df.drop(columns = 'values', inplace = True)"
   ]
  },
  {
   "cell_type": "code",
   "execution_count": 214,
   "id": "692eb4c3-0f06-412b-952f-8b2f8ff79e86",
   "metadata": {
    "execution": {
     "iopub.execute_input": "2024-10-22T14:32:12.591774Z",
     "iopub.status.busy": "2024-10-22T14:32:12.590809Z",
     "iopub.status.idle": "2024-10-22T14:32:13.025129Z",
     "shell.execute_reply": "2024-10-22T14:32:13.024231Z",
     "shell.execute_reply.started": "2024-10-22T14:32:12.591739Z"
    },
    "tags": []
   },
   "outputs": [
    {
     "name": "stderr",
     "output_type": "stream",
     "text": [
      "/tmp/ipykernel_2197/3815763107.py:3: FutureWarning: The default value of numeric_only in DataFrame.corr is deprecated. In a future version, it will default to False. Select only valid columns or specify the value of numeric_only to silence this warning.\n",
      "  sns.heatmap(df.corr(), cmap = ('coolwarm'))\n"
     ]
    },
    {
     "data": {
      "text/plain": [
       "<Axes: >"
      ]
     },
     "execution_count": 214,
     "metadata": {},
     "output_type": "execute_result"
    },
    {
     "data": {
      "image/png": "[encoded data removed]",
      "text/plain": [
       "<Figure size 640x480 with 2 Axes>"
      ]
     },
     "metadata": {},
     "output_type": "display_data"
    }
   ],
   "source": [
    "import seaborn as sns\n",
    "\n",
    "sns.heatmap(df.corr(), cmap = ('coolwarm'))\n"
   ]
  },
  {
   "cell_type": "code",
   "execution_count": 215,
   "id": "019b99ea-8812-4d23-89e0-97d0fd68753f",
   "metadata": {
    "execution": {
     "iopub.execute_input": "2024-10-22T14:32:30.765856Z",
     "iopub.status.busy": "2024-10-22T14:32:30.764763Z",
     "iopub.status.idle": "2024-10-22T14:32:30.817613Z",
     "shell.execute_reply": "2024-10-22T14:32:30.816741Z",
     "shell.execute_reply.started": "2024-10-22T14:32:30.765794Z"
    },
    "tags": []
   },
   "outputs": [
    {
     "data": {
      "text/html": [
       "<div>\n",
       "<style scoped>\n",
       "    .dataframe tbody tr th:only-of-type {\n",
       "        vertical-align: middle;\n",
       "    }\n",
       "\n",
       "    .dataframe tbody tr th {\n",
       "        vertical-align: top;\n",
       "    }\n",
       "\n",
       "    .dataframe thead th {\n",
       "        text-align: right;\n",
       "    }\n",
       "</style>\n",
       "<table border=\"1\" class=\"dataframe\">\n",
       "  <thead>\n",
       "    <tr style=\"text-align: right;\">\n",
       "      <th></th>\n",
       "      <th>id</th>\n",
       "      <th>label</th>\n",
       "      <th>start_date</th>\n",
       "      <th>end_date</th>\n",
       "      <th>duration_days</th>\n",
       "      <th>start_year</th>\n",
       "      <th>start_month</th>\n",
       "      <th>mean_interval_days</th>\n",
       "      <th>median</th>\n",
       "      <th>mean</th>\n",
       "      <th>std</th>\n",
       "      <th>min</th>\n",
       "      <th>max</th>\n",
       "      <th>last_value</th>\n",
       "      <th>sum</th>\n",
       "      <th>coef_of_variation</th>\n",
       "      <th>ema</th>\n",
       "      <th>trend_slope</th>\n",
       "      <th>length</th>\n",
       "      <th>kurtosis</th>\n",
       "    </tr>\n",
       "  </thead>\n",
       "  <tbody>\n",
       "    <tr>\n",
       "      <th>0</th>\n",
       "      <td>19114</td>\n",
       "      <td>0.0</td>\n",
       "      <td>2016-01-01</td>\n",
       "      <td>2021-02-01</td>\n",
       "      <td>1858 days</td>\n",
       "      <td>2016</td>\n",
       "      <td>1</td>\n",
       "      <td>29.967742</td>\n",
       "      <td>-0.050000</td>\n",
       "      <td>0.102157</td>\n",
       "      <td>1.183470</td>\n",
       "      <td>-2.280000</td>\n",
       "      <td>3.49</td>\n",
       "      <td>-0.570000</td>\n",
       "      <td>6.333710</td>\n",
       "      <td>11.584857</td>\n",
       "      <td>-0.311900</td>\n",
       "      <td>-0.015754</td>\n",
       "      <td>62</td>\n",
       "      <td>0.338155</td>\n",
       "    </tr>\n",
       "    <tr>\n",
       "      <th>1</th>\n",
       "      <td>22769</td>\n",
       "      <td>1.0</td>\n",
       "      <td>2016-05-01</td>\n",
       "      <td>2020-01-01</td>\n",
       "      <td>1340 days</td>\n",
       "      <td>2016</td>\n",
       "      <td>5</td>\n",
       "      <td>29.777778</td>\n",
       "      <td>-0.274409</td>\n",
       "      <td>-0.310777</td>\n",
       "      <td>1.556337</td>\n",
       "      <td>-3.534409</td>\n",
       "      <td>2.92</td>\n",
       "      <td>-0.054409</td>\n",
       "      <td>-13.984957</td>\n",
       "      <td>-5.007893</td>\n",
       "      <td>-0.296800</td>\n",
       "      <td>-0.026755</td>\n",
       "      <td>45</td>\n",
       "      <td>0.025976</td>\n",
       "    </tr>\n",
       "    <tr>\n",
       "      <th>2</th>\n",
       "      <td>76935</td>\n",
       "      <td>0.0</td>\n",
       "      <td>2017-03-01</td>\n",
       "      <td>2021-02-01</td>\n",
       "      <td>1433 days</td>\n",
       "      <td>2017</td>\n",
       "      <td>3</td>\n",
       "      <td>29.854167</td>\n",
       "      <td>-0.145000</td>\n",
       "      <td>-0.046042</td>\n",
       "      <td>1.065023</td>\n",
       "      <td>-1.950000</td>\n",
       "      <td>2.61</td>\n",
       "      <td>-0.420000</td>\n",
       "      <td>-2.210000</td>\n",
       "      <td>-23.131720</td>\n",
       "      <td>-0.160939</td>\n",
       "      <td>-0.032482</td>\n",
       "      <td>48</td>\n",
       "      <td>-0.167206</td>\n",
       "    </tr>\n",
       "    <tr>\n",
       "      <th>3</th>\n",
       "      <td>66297</td>\n",
       "      <td>0.0</td>\n",
       "      <td>2016-01-01</td>\n",
       "      <td>2019-12-01</td>\n",
       "      <td>1430 days</td>\n",
       "      <td>2016</td>\n",
       "      <td>1</td>\n",
       "      <td>29.791667</td>\n",
       "      <td>-0.345000</td>\n",
       "      <td>-0.130000</td>\n",
       "      <td>1.158201</td>\n",
       "      <td>-2.220000</td>\n",
       "      <td>2.49</td>\n",
       "      <td>1.590000</td>\n",
       "      <td>-6.240000</td>\n",
       "      <td>-8.909237</td>\n",
       "      <td>1.303831</td>\n",
       "      <td>0.049298</td>\n",
       "      <td>48</td>\n",
       "      <td>-0.809032</td>\n",
       "    </tr>\n",
       "    <tr>\n",
       "      <th>4</th>\n",
       "      <td>2191</td>\n",
       "      <td>0.0</td>\n",
       "      <td>2016-01-01</td>\n",
       "      <td>2020-08-01</td>\n",
       "      <td>1674 days</td>\n",
       "      <td>2016</td>\n",
       "      <td>1</td>\n",
       "      <td>29.892857</td>\n",
       "      <td>-0.475000</td>\n",
       "      <td>-0.270536</td>\n",
       "      <td>1.270529</td>\n",
       "      <td>-2.500000</td>\n",
       "      <td>2.87</td>\n",
       "      <td>-0.750000</td>\n",
       "      <td>-15.150000</td>\n",
       "      <td>-4.696345</td>\n",
       "      <td>-1.095591</td>\n",
       "      <td>-0.011478</td>\n",
       "      <td>56</td>\n",
       "      <td>-0.527906</td>\n",
       "    </tr>\n",
       "  </tbody>\n",
       "</table>\n",
       "</div>"
      ],
      "text/plain": [
       "      id  label start_date   end_date  ...       ema  trend_slope  length  kurtosis\n",
       "0  19114    0.0 2016-01-01 2021-02-01  ... -0.311900    -0.015754      62  0.338155\n",
       "1  22769    1.0 2016-05-01 2020-01-01  ... -0.296800    -0.026755      45  0.025976\n",
       "2  76935    0.0 2017-03-01 2021-02-01  ... -0.160939    -0.032482      48 -0.167206\n",
       "3  66297    0.0 2016-01-01 2019-12-01  ...  1.303831     0.049298      48 -0.809032\n",
       "4   2191    0.0 2016-01-01 2020-08-01  ... -1.095591    -0.011478      56 -0.527906\n",
       "\n",
       "[5 rows x 20 columns]"
      ]
     },
     "execution_count": 215,
     "metadata": {},
     "output_type": "execute_result"
    }
   ],
   "source": [
    "df.head()"
   ]
  },
  {
   "cell_type": "markdown",
   "id": "922d5af6-e48d-4776-918d-24b013fde29b",
   "metadata": {},
   "source": [
    "# Обучение"
   ]
  },
  {
   "cell_type": "code",
   "execution_count": 133,
   "id": "646f7621-c97e-4670-b265-54190bcc818b",
   "metadata": {
    "execution": {
     "iopub.execute_input": "2024-10-21T21:34:33.263053Z",
     "iopub.status.busy": "2024-10-21T21:34:33.262028Z",
     "iopub.status.idle": "2024-10-21T21:34:44.249373Z",
     "shell.execute_reply": "2024-10-21T21:34:44.248422Z",
     "shell.execute_reply.started": "2024-10-21T21:34:33.263010Z"
    }
   },
   "outputs": [
    {
     "name": "stdout",
     "output_type": "stream",
     "text": [
      "\n",
      "\u001b[1m[\u001b[0m\u001b[34;49mnotice\u001b[0m\u001b[1;39;49m]\u001b[0m\u001b[39;49m A new release of pip is available: \u001b[0m\u001b[31;49m23.0.1\u001b[0m\u001b[39;49m -> \u001b[0m\u001b[32;49m24.2\u001b[0m\n",
      "\u001b[1m[\u001b[0m\u001b[34;49mnotice\u001b[0m\u001b[1;39;49m]\u001b[0m\u001b[39;49m To update, run: \u001b[0m\u001b[32;49mpython3 -m pip install --upgrade pip\u001b[0m\n"
     ]
    }
   ],
   "source": [
    "%pip -q install catboost"
   ]
  },
  {
   "cell_type": "markdown",
   "id": "d34700de-ca01-4d54-96fd-be8a227d4e21",
   "metadata": {},
   "source": [
    "## В данных наблюдался дисбаланс, поэтому добавил auto_class_weights"
   ]
  },
  {
   "cell_type": "code",
   "execution_count": 216,
   "id": "26f29da8-f7a0-4944-b2c0-222abe5080af",
   "metadata": {
    "execution": {
     "iopub.execute_input": "2024-10-22T14:32:34.845024Z",
     "iopub.status.busy": "2024-10-22T14:32:34.843758Z",
     "iopub.status.idle": "2024-10-22T14:32:36.067685Z",
     "shell.execute_reply": "2024-10-22T14:32:36.066745Z",
     "shell.execute_reply.started": "2024-10-22T14:32:34.844974Z"
    },
    "tags": []
   },
   "outputs": [
    {
     "name": "stdout",
     "output_type": "stream",
     "text": [
      "Roc_auc_score: 0.81\n",
      "Accuracy: 0.81\n"
     ]
    }
   ],
   "source": [
    "from catboost import CatBoostClassifier, Pool\n",
    "from sklearn.model_selection import train_test_split\n",
    "from sklearn.metrics import accuracy_score, roc_auc_score, roc_curve\n",
    "\n",
    "\n",
    "# Разделяем на обучающую и тестовую выборки\n",
    "X = df.drop(columns=['id', 'label'])##убрал незначимые признаки\n",
    "y = df['label']\n",
    "\n",
    "X_train, X_test, y_train, y_test = train_test_split(X, y, test_size=0.2, random_state=42)\n",
    "\n",
    "# Инициализация CatBoostClassifier\n",
    "model = CatBoostClassifier(iterations=150, learning_rate=0.1, depth=6, verbose=0,loss_function='Logloss',auto_class_weights='Balanced')\n",
    "\n",
    "# Обучение модели\n",
    "model.fit(X_train, y_train)\n",
    "\n",
    "# Предсказание на тестовой выборке\n",
    "y_pred = model.predict(X_test)\n",
    "\n",
    "# Оценка качества модели\n",
    "accuracy = accuracy_score(y_test, y_pred)\n",
    "rocc = roc_auc_score(y_test,y_pred)\n",
    "print(f'Roc_auc_score: {rocc:.2f}')\n",
    "print(f'Accuracy: {accuracy:.2f}')"
   ]
  },
  {
   "cell_type": "code",
   "execution_count": 233,
   "id": "7422c419-caa0-4fb8-85ae-9524bf2a2a52",
   "metadata": {
    "execution": {
     "iopub.execute_input": "2024-10-22T14:50:26.825156Z",
     "iopub.status.busy": "2024-10-22T14:50:26.823990Z",
     "iopub.status.idle": "2024-10-22T14:50:26.846902Z",
     "shell.execute_reply": "2024-10-22T14:50:26.846070Z",
     "shell.execute_reply.started": "2024-10-22T14:50:26.825111Z"
    }
   },
   "outputs": [],
   "source": [
    "model.save_model('catboost_model.cbm')"
   ]
  },
  {
   "cell_type": "markdown",
   "id": "2e4b7ec0-9f7c-4523-9f39-f4905fa0a2c9",
   "metadata": {
    "execution": {
     "iopub.execute_input": "2024-10-22T14:35:27.992192Z",
     "iopub.status.busy": "2024-10-22T14:35:27.990921Z",
     "iopub.status.idle": "2024-10-22T14:35:28.035582Z",
     "shell.execute_reply": "2024-10-22T14:35:28.034718Z",
     "shell.execute_reply.started": "2024-10-22T14:35:27.992144Z"
    }
   },
   "source": [
    "## Проверяем обобщающую способность модели"
   ]
  },
  {
   "cell_type": "code",
   "execution_count": 217,
   "id": "45c30306-2f3b-472b-ba84-696e87ec1046",
   "metadata": {
    "execution": {
     "iopub.execute_input": "2024-10-22T14:32:45.204953Z",
     "iopub.status.busy": "2024-10-22T14:32:45.204126Z",
     "iopub.status.idle": "2024-10-22T14:32:52.786686Z",
     "shell.execute_reply": "2024-10-22T14:32:52.785852Z",
     "shell.execute_reply.started": "2024-10-22T14:32:45.204913Z"
    },
    "tags": []
   },
   "outputs": [
    {
     "name": "stdout",
     "output_type": "stream",
     "text": [
      "Training on fold [0/5]\n",
      "\n",
      "bestTest = 0.4086305706\n",
      "bestIteration = 148\n",
      "\n",
      "Training on fold [1/5]\n",
      "\n",
      "bestTest = 0.4128878842\n",
      "bestIteration = 149\n",
      "\n",
      "Training on fold [2/5]\n",
      "\n",
      "bestTest = 0.4051028819\n",
      "bestIteration = 149\n",
      "\n",
      "Training on fold [3/5]\n",
      "\n",
      "bestTest = 0.4125064775\n",
      "bestIteration = 149\n",
      "\n",
      "Training on fold [4/5]\n",
      "\n",
      "bestTest = 0.4092113052\n",
      "bestIteration = 149\n",
      "\n"
     ]
    }
   ],
   "source": [
    "from catboost import cv\n",
    "\n",
    "train_data = Pool(data=X_train, label=y_train)\n",
    "cv_results = cv(train_data, model.get_params(), fold_count=5)"
   ]
  },
  {
   "cell_type": "code",
   "execution_count": null,
   "id": "da144f92-5ff5-40f4-863a-d6ae5de0db59",
   "metadata": {},
   "outputs": [],
   "source": [
    "## с помощью кросс-валидации получили, что модель хорошо обобщает данные и стабильна."
   ]
  },
  {
   "cell_type": "markdown",
   "id": "c139d361-67c8-4717-b7fc-19f975b97ccd",
   "metadata": {},
   "source": [
    "## ROC-curve"
   ]
  },
  {
   "cell_type": "code",
   "execution_count": 218,
   "id": "afbfa8b4-f160-46fb-815d-18b94ab7859e",
   "metadata": {
    "execution": {
     "iopub.execute_input": "2024-10-22T14:33:01.901376Z",
     "iopub.status.busy": "2024-10-22T14:33:01.899926Z",
     "iopub.status.idle": "2024-10-22T14:33:02.137098Z",
     "shell.execute_reply": "2024-10-22T14:33:02.136071Z",
     "shell.execute_reply.started": "2024-10-22T14:33:01.901333Z"
    },
    "tags": []
   },
   "outputs": [
    {
     "data": {
      "image/png": "[encoded data removed]",
      "text/plain": [
       "<Figure size 800x600 with 1 Axes>"
      ]
     },
     "metadata": {},
     "output_type": "display_data"
    }
   ],
   "source": [
    "import matplotlib.pyplot as plt\n",
    "\n",
    "# Предсказание вероятностей для положительного класса\n",
    "y_pred_proba = model.predict_proba(X_test)[:, 1]\n",
    "\n",
    "# Вычисление значений для ROC-кривой\n",
    "fpr, tpr, thresholds = roc_curve(y_test, y_pred_proba)\n",
    "\n",
    "# Построение ROC-кривой\n",
    "plt.figure(figsize=(8, 6))\n",
    "plt.plot(fpr, tpr, label='CatBoost (AUC = {:.2f})'.format(roc_auc_score(y_test, y_pred_proba)))\n",
    "plt.plot([0, 1], [0, 1], 'k--', label='Random guess')\n",
    "plt.xlim([0.0, 1.0])\n",
    "plt.ylim([0.0, 1.05])\n",
    "plt.xlabel('False Positive Rate')\n",
    "plt.ylabel('True Positive Rate')\n",
    "plt.title('Receiver Operating Characteristic (ROC) Curve')\n",
    "plt.legend(loc='lower right')\n",
    "plt.show()\n"
   ]
  },
  {
   "cell_type": "code",
   "execution_count": 220,
   "id": "f0532750-c792-4f59-bb13-d8878e0e7545",
   "metadata": {
    "execution": {
     "iopub.execute_input": "2024-10-22T14:36:31.223821Z",
     "iopub.status.busy": "2024-10-22T14:36:31.222807Z",
     "iopub.status.idle": "2024-10-22T14:36:31.438676Z",
     "shell.execute_reply": "2024-10-22T14:36:31.437838Z",
     "shell.execute_reply.started": "2024-10-22T14:36:31.223782Z"
    },
    "tags": []
   },
   "outputs": [
    {
     "data": {
      "image/png": "[encoded data removed]",
      "text/plain": [
       "<Figure size 1000x600 with 1 Axes>"
      ]
     },
     "metadata": {},
     "output_type": "display_data"
    }
   ],
   "source": [
    "import matplotlib.pyplot as plt\n",
    "import numpy as np\n",
    "\n",
    "# Получение значимости признаков\n",
    "feature_importances = model.get_feature_importance()\n",
    "feature_names = X_train.columns\n",
    "\n",
    "# Построение графика значимости признаков\n",
    "plt.figure(figsize=(10, 6))\n",
    "indices = np.argsort(feature_importances)[::-1]  # Сортируем по убыванию важности\n",
    "plt.barh(range(len(feature_importances)), feature_importances[indices], align='center')\n",
    "plt.yticks(range(len(feature_importances)), feature_names[indices])\n",
    "plt.xlabel('Feature Importance')\n",
    "plt.title('Feature Importance in CatBoost Model')\n",
    "plt.gca().invert_yaxis()  # Инвертируем ось для сортировки сверху вниз\n",
    "plt.show()\n"
   ]
  },
  {
   "cell_type": "markdown",
   "id": "d27dd1ab-ecc7-4b2a-9d89-33db6c2ff6a6",
   "metadata": {},
   "source": [
    "# Предсказание на test"
   ]
  },
  {
   "cell_type": "code",
   "execution_count": 221,
   "id": "789918c8-f093-4705-bc94-2f431e43b077",
   "metadata": {
    "execution": {
     "iopub.execute_input": "2024-10-22T14:36:42.243803Z",
     "iopub.status.busy": "2024-10-22T14:36:42.242798Z",
     "iopub.status.idle": "2024-10-22T14:36:42.309042Z",
     "shell.execute_reply": "2024-10-22T14:36:42.308092Z",
     "shell.execute_reply.started": "2024-10-22T14:36:42.243760Z"
    },
    "tags": []
   },
   "outputs": [
    {
     "data": {
      "text/html": [
       "<div>\n",
       "<style scoped>\n",
       "    .dataframe tbody tr th:only-of-type {\n",
       "        vertical-align: middle;\n",
       "    }\n",
       "\n",
       "    .dataframe tbody tr th {\n",
       "        vertical-align: top;\n",
       "    }\n",
       "\n",
       "    .dataframe thead th {\n",
       "        text-align: right;\n",
       "    }\n",
       "</style>\n",
       "<table border=\"1\" class=\"dataframe\">\n",
       "  <thead>\n",
       "    <tr style=\"text-align: right;\">\n",
       "      <th></th>\n",
       "      <th>id</th>\n",
       "      <th>dates</th>\n",
       "      <th>values</th>\n",
       "    </tr>\n",
       "  </thead>\n",
       "  <tbody>\n",
       "    <tr>\n",
       "      <th>0</th>\n",
       "      <td>6125</td>\n",
       "      <td>[2016-01-01, 2016-02-01, 2016-03-01, 2016-04-0...</td>\n",
       "      <td>[1.85, -0.04, 0.19, -0.45, -0.75, -0.95, -2.91...</td>\n",
       "    </tr>\n",
       "    <tr>\n",
       "      <th>1</th>\n",
       "      <td>26781</td>\n",
       "      <td>[2016-01-01, 2016-02-01, 2016-03-01, 2016-04-0...</td>\n",
       "      <td>[-0.41, 0.39, -0.47, -0.9, -1.46, -0.51, 0.51,...</td>\n",
       "    </tr>\n",
       "    <tr>\n",
       "      <th>2</th>\n",
       "      <td>13333</td>\n",
       "      <td>[2016-06-01, 2016-07-01, 2016-08-01, 2016-09-0...</td>\n",
       "      <td>[-0.29, -1.26, 0.17, -1.22, 0.45, -0.94, 0.16,...</td>\n",
       "    </tr>\n",
       "    <tr>\n",
       "      <th>3</th>\n",
       "      <td>53218</td>\n",
       "      <td>[2016-01-01, 2016-02-01, 2016-03-01, 2016-04-0...</td>\n",
       "      <td>[-1.47, 1.55, -0.03, 0.57, -0.57, 0.6, 0.27, 1...</td>\n",
       "    </tr>\n",
       "    <tr>\n",
       "      <th>4</th>\n",
       "      <td>84204</td>\n",
       "      <td>[2016-01-01, 2016-02-01, 2016-03-01, 2016-04-0...</td>\n",
       "      <td>[2.33, 1.39, -1.03, -2.64, 1.89, 1.77, 1.43, 1...</td>\n",
       "    </tr>\n",
       "    <tr>\n",
       "      <th>...</th>\n",
       "      <td>...</td>\n",
       "      <td>...</td>\n",
       "      <td>...</td>\n",
       "    </tr>\n",
       "    <tr>\n",
       "      <th>19995</th>\n",
       "      <td>80341</td>\n",
       "      <td>[2016-03-01, 2016-04-01, 2016-05-01, 2016-06-0...</td>\n",
       "      <td>[3.01, -0.58, 1.55, 0.48, -0.35, 1.93, 3.86, 2...</td>\n",
       "    </tr>\n",
       "    <tr>\n",
       "      <th>19996</th>\n",
       "      <td>5891</td>\n",
       "      <td>[2016-01-01, 2016-02-01, 2016-03-01, 2016-04-0...</td>\n",
       "      <td>[0.66, 1.3, 2.78, -0.25, -1.97, -0.55, -1.08, ...</td>\n",
       "    </tr>\n",
       "    <tr>\n",
       "      <th>19997</th>\n",
       "      <td>29091</td>\n",
       "      <td>[2017-01-01, 2017-02-01, 2017-03-01, 2017-04-0...</td>\n",
       "      <td>[0.09, 0.44, 1.55, 0.15, 0.3, 0.19, 0.34, 1.05...</td>\n",
       "    </tr>\n",
       "    <tr>\n",
       "      <th>19998</th>\n",
       "      <td>85877</td>\n",
       "      <td>[2017-04-01, 2017-05-01, 2017-06-01, 2017-07-0...</td>\n",
       "      <td>[0.28, 1.92, 1.14, 2.4, 1.46, 1.08, -0.12, 0.6...</td>\n",
       "    </tr>\n",
       "    <tr>\n",
       "      <th>19999</th>\n",
       "      <td>73528</td>\n",
       "      <td>[2016-01-01, 2016-02-01, 2016-03-01, 2016-04-0...</td>\n",
       "      <td>[0.32, 0.75, 0.57, -0.97, -0.6, -2.9, 1.41, -1...</td>\n",
       "    </tr>\n",
       "  </tbody>\n",
       "</table>\n",
       "<p>20000 rows × 3 columns</p>\n",
       "</div>"
      ],
      "text/plain": [
       "          id  ...                                             values\n",
       "0       6125  ...  [1.85, -0.04, 0.19, -0.45, -0.75, -0.95, -2.91...\n",
       "1      26781  ...  [-0.41, 0.39, -0.47, -0.9, -1.46, -0.51, 0.51,...\n",
       "2      13333  ...  [-0.29, -1.26, 0.17, -1.22, 0.45, -0.94, 0.16,...\n",
       "3      53218  ...  [-1.47, 1.55, -0.03, 0.57, -0.57, 0.6, 0.27, 1...\n",
       "4      84204  ...  [2.33, 1.39, -1.03, -2.64, 1.89, 1.77, 1.43, 1...\n",
       "...      ...  ...                                                ...\n",
       "19995  80341  ...  [3.01, -0.58, 1.55, 0.48, -0.35, 1.93, 3.86, 2...\n",
       "19996   5891  ...  [0.66, 1.3, 2.78, -0.25, -1.97, -0.55, -1.08, ...\n",
       "19997  29091  ...  [0.09, 0.44, 1.55, 0.15, 0.3, 0.19, 0.34, 1.05...\n",
       "19998  85877  ...  [0.28, 1.92, 1.14, 2.4, 1.46, 1.08, -0.12, 0.6...\n",
       "19999  73528  ...  [0.32, 0.75, 0.57, -0.97, -0.6, -2.9, 1.41, -1...\n",
       "\n",
       "[20000 rows x 3 columns]"
      ]
     },
     "execution_count": 221,
     "metadata": {},
     "output_type": "execute_result"
    }
   ],
   "source": [
    "df_test"
   ]
  },
  {
   "cell_type": "code",
   "execution_count": 222,
   "id": "5a76951e-06d6-4dfa-99f5-00934a96ba8c",
   "metadata": {
    "execution": {
     "iopub.execute_input": "2024-10-22T14:37:26.819303Z",
     "iopub.status.busy": "2024-10-22T14:37:26.818247Z",
     "iopub.status.idle": "2024-10-22T14:37:31.248211Z",
     "shell.execute_reply": "2024-10-22T14:37:31.247337Z",
     "shell.execute_reply.started": "2024-10-22T14:37:26.819262Z"
    },
    "tags": []
   },
   "outputs": [],
   "source": [
    "import pandas as pd\n",
    "\n",
    "# Преобразование строковых дат в datetime\n",
    "df_test['dates'] = df_test['dates'].apply(lambda x: pd.to_datetime(x))\n",
    "\n",
    "# Признаки\n",
    "df_test['start_date'] = df_test['dates'].apply(lambda x: x[0])  # первая дата\n",
    "df_test['end_date'] = df_test['dates'].apply(lambda x: x[-1])   # последняя дата\n",
    "df_test['duration_days'] = df_test['end_date'] - df_test['start_date']  # продолжительность периода\n",
    "\n",
    "# Пример извлечения года и месяца из первой даты\n",
    "df_test['start_year'] = df_test['start_date'].apply(lambda x: x.year)\n",
    "df_test['start_month'] = df_test['start_date'].apply(lambda x: x.month)\n",
    "\n",
    "# Пример извлечения среднего временного интервала между датами\n",
    "df_test['mean_interval_days'] = df_test['dates'].apply(lambda x: (x[-1] - x[0]).days / len(x) if len(x) > 1 else 0)\n"
   ]
  },
  {
   "cell_type": "code",
   "execution_count": 223,
   "id": "5fea6125-2c3d-432a-bf88-8bf6038fd06d",
   "metadata": {
    "execution": {
     "iopub.execute_input": "2024-10-22T14:38:46.052951Z",
     "iopub.status.busy": "2024-10-22T14:38:46.051891Z",
     "iopub.status.idle": "2024-10-22T14:38:53.572965Z",
     "shell.execute_reply": "2024-10-22T14:38:53.572111Z",
     "shell.execute_reply.started": "2024-10-22T14:38:46.052909Z"
    },
    "tags": []
   },
   "outputs": [],
   "source": [
    "# Агрегация\n",
    "df_test['median'] = df_test['values'].apply(np.median)\n",
    "df_test['mean'] = df_test['values'].apply(np.mean)\n",
    "df_test['std'] = df_test['values'].apply(np.std)\n",
    "df_test['min'] = df_test['values'].apply(np.min)\n",
    "df_test['max'] = df_test['values'].apply(np.max)\n",
    "df_test['last_value']  = df_test['values'].apply(lambda x: x[-1])\n",
    "df_test['sum'] = df_test['values'].apply(np.sum)\n",
    "df_test['coef_of_variation'] = df_test['std'] / df_test['mean']\n",
    "df_test['ema'] = df_test['values'].apply(lambda x: pd.Series(x).ewm(span=3).mean().iloc[-1])\n",
    "\n",
    "from scipy.stats import linregress\n",
    "df_test['trend_slope'] = df_test['values'].apply(lambda x: linregress(range(len(x)), x)[0])\n",
    "df_test['length'] = df_test['values'].apply(len)\n",
    "df_test['kurtosis'] = df_test['values'].apply(lambda x: pd.Series(x).kurtosis())\n"
   ]
  },
  {
   "cell_type": "code",
   "execution_count": 224,
   "id": "2e82b1fd-27be-4dc6-95fb-b1e98c241b7d",
   "metadata": {
    "execution": {
     "iopub.execute_input": "2024-10-22T14:38:59.886562Z",
     "iopub.status.busy": "2024-10-22T14:38:59.885180Z",
     "iopub.status.idle": "2024-10-22T14:38:59.920710Z",
     "shell.execute_reply": "2024-10-22T14:38:59.919859Z",
     "shell.execute_reply.started": "2024-10-22T14:38:59.886515Z"
    },
    "tags": []
   },
   "outputs": [],
   "source": [
    "df_test.drop(columns = ['dates','values'], inplace = True)"
   ]
  },
  {
   "cell_type": "code",
   "execution_count": 225,
   "id": "1a641ebb-d0fa-4d64-a9c1-b554629c91df",
   "metadata": {
    "execution": {
     "iopub.execute_input": "2024-10-22T14:39:00.950170Z",
     "iopub.status.busy": "2024-10-22T14:39:00.948877Z",
     "iopub.status.idle": "2024-10-22T14:39:01.061535Z",
     "shell.execute_reply": "2024-10-22T14:39:01.060629Z",
     "shell.execute_reply.started": "2024-10-22T14:39:00.950127Z"
    },
    "tags": []
   },
   "outputs": [
    {
     "data": {
      "text/html": [
       "<div>\n",
       "<style scoped>\n",
       "    .dataframe tbody tr th:only-of-type {\n",
       "        vertical-align: middle;\n",
       "    }\n",
       "\n",
       "    .dataframe tbody tr th {\n",
       "        vertical-align: top;\n",
       "    }\n",
       "\n",
       "    .dataframe thead th {\n",
       "        text-align: right;\n",
       "    }\n",
       "</style>\n",
       "<table border=\"1\" class=\"dataframe\">\n",
       "  <thead>\n",
       "    <tr style=\"text-align: right;\">\n",
       "      <th></th>\n",
       "      <th>id</th>\n",
       "      <th>start_date</th>\n",
       "      <th>end_date</th>\n",
       "      <th>duration_days</th>\n",
       "      <th>start_year</th>\n",
       "      <th>start_month</th>\n",
       "      <th>mean_interval_days</th>\n",
       "      <th>median</th>\n",
       "      <th>mean</th>\n",
       "      <th>std</th>\n",
       "      <th>min</th>\n",
       "      <th>max</th>\n",
       "      <th>last_value</th>\n",
       "      <th>sum</th>\n",
       "      <th>coef_of_variation</th>\n",
       "      <th>ema</th>\n",
       "      <th>trend_slope</th>\n",
       "      <th>length</th>\n",
       "      <th>kurtosis</th>\n",
       "    </tr>\n",
       "  </thead>\n",
       "  <tbody>\n",
       "    <tr>\n",
       "      <th>0</th>\n",
       "      <td>6125</td>\n",
       "      <td>2016-01-01</td>\n",
       "      <td>2020-09-01</td>\n",
       "      <td>1705 days</td>\n",
       "      <td>2016</td>\n",
       "      <td>1</td>\n",
       "      <td>29.912281</td>\n",
       "      <td>-0.010</td>\n",
       "      <td>0.037895</td>\n",
       "      <td>1.505985</td>\n",
       "      <td>-3.140000</td>\n",
       "      <td>3.13</td>\n",
       "      <td>-0.270000</td>\n",
       "      <td>2.160000</td>\n",
       "      <td>39.741282</td>\n",
       "      <td>-0.770859</td>\n",
       "      <td>-0.010018</td>\n",
       "      <td>57</td>\n",
       "      <td>-0.342699</td>\n",
       "    </tr>\n",
       "    <tr>\n",
       "      <th>1</th>\n",
       "      <td>26781</td>\n",
       "      <td>2016-01-01</td>\n",
       "      <td>2020-07-01</td>\n",
       "      <td>1643 days</td>\n",
       "      <td>2016</td>\n",
       "      <td>1</td>\n",
       "      <td>29.872727</td>\n",
       "      <td>-0.080</td>\n",
       "      <td>-0.016909</td>\n",
       "      <td>1.249663</td>\n",
       "      <td>-2.240000</td>\n",
       "      <td>3.85</td>\n",
       "      <td>2.380000</td>\n",
       "      <td>-0.930000</td>\n",
       "      <td>-73.904804</td>\n",
       "      <td>0.678527</td>\n",
       "      <td>-0.009304</td>\n",
       "      <td>55</td>\n",
       "      <td>1.058050</td>\n",
       "    </tr>\n",
       "    <tr>\n",
       "      <th>2</th>\n",
       "      <td>13333</td>\n",
       "      <td>2016-06-01</td>\n",
       "      <td>2020-12-01</td>\n",
       "      <td>1644 days</td>\n",
       "      <td>2016</td>\n",
       "      <td>6</td>\n",
       "      <td>29.890909</td>\n",
       "      <td>-0.160</td>\n",
       "      <td>-0.039569</td>\n",
       "      <td>1.000514</td>\n",
       "      <td>-1.450000</td>\n",
       "      <td>3.46</td>\n",
       "      <td>1.387809</td>\n",
       "      <td>-2.176292</td>\n",
       "      <td>-25.285321</td>\n",
       "      <td>0.712297</td>\n",
       "      <td>0.025446</td>\n",
       "      <td>55</td>\n",
       "      <td>1.296155</td>\n",
       "    </tr>\n",
       "    <tr>\n",
       "      <th>3</th>\n",
       "      <td>53218</td>\n",
       "      <td>2016-01-01</td>\n",
       "      <td>2022-06-01</td>\n",
       "      <td>2343 days</td>\n",
       "      <td>2016</td>\n",
       "      <td>1</td>\n",
       "      <td>30.038462</td>\n",
       "      <td>0.110</td>\n",
       "      <td>0.159231</td>\n",
       "      <td>1.313112</td>\n",
       "      <td>-2.730000</td>\n",
       "      <td>3.43</td>\n",
       "      <td>-0.680000</td>\n",
       "      <td>12.420000</td>\n",
       "      <td>8.246598</td>\n",
       "      <td>-0.543768</td>\n",
       "      <td>-0.008521</td>\n",
       "      <td>78</td>\n",
       "      <td>0.022481</td>\n",
       "    </tr>\n",
       "    <tr>\n",
       "      <th>4</th>\n",
       "      <td>84204</td>\n",
       "      <td>2016-01-01</td>\n",
       "      <td>2021-05-01</td>\n",
       "      <td>1947 days</td>\n",
       "      <td>2016</td>\n",
       "      <td>1</td>\n",
       "      <td>29.953846</td>\n",
       "      <td>-0.090</td>\n",
       "      <td>-0.094705</td>\n",
       "      <td>1.243279</td>\n",
       "      <td>-2.660000</td>\n",
       "      <td>2.57</td>\n",
       "      <td>-1.497317</td>\n",
       "      <td>-6.155851</td>\n",
       "      <td>-13.127864</td>\n",
       "      <td>-1.200098</td>\n",
       "      <td>-0.024730</td>\n",
       "      <td>65</td>\n",
       "      <td>-0.479235</td>\n",
       "    </tr>\n",
       "    <tr>\n",
       "      <th>...</th>\n",
       "      <td>...</td>\n",
       "      <td>...</td>\n",
       "      <td>...</td>\n",
       "      <td>...</td>\n",
       "      <td>...</td>\n",
       "      <td>...</td>\n",
       "      <td>...</td>\n",
       "      <td>...</td>\n",
       "      <td>...</td>\n",
       "      <td>...</td>\n",
       "      <td>...</td>\n",
       "      <td>...</td>\n",
       "      <td>...</td>\n",
       "      <td>...</td>\n",
       "      <td>...</td>\n",
       "      <td>...</td>\n",
       "      <td>...</td>\n",
       "      <td>...</td>\n",
       "      <td>...</td>\n",
       "    </tr>\n",
       "    <tr>\n",
       "      <th>19995</th>\n",
       "      <td>80341</td>\n",
       "      <td>2016-03-01</td>\n",
       "      <td>2022-12-01</td>\n",
       "      <td>2466 days</td>\n",
       "      <td>2016</td>\n",
       "      <td>3</td>\n",
       "      <td>30.073171</td>\n",
       "      <td>-0.275</td>\n",
       "      <td>-0.022217</td>\n",
       "      <td>1.077283</td>\n",
       "      <td>-1.550000</td>\n",
       "      <td>3.86</td>\n",
       "      <td>-0.483638</td>\n",
       "      <td>-1.821829</td>\n",
       "      <td>-48.488220</td>\n",
       "      <td>-0.340915</td>\n",
       "      <td>-0.004308</td>\n",
       "      <td>82</td>\n",
       "      <td>2.963392</td>\n",
       "    </tr>\n",
       "    <tr>\n",
       "      <th>19996</th>\n",
       "      <td>5891</td>\n",
       "      <td>2016-01-01</td>\n",
       "      <td>2022-10-01</td>\n",
       "      <td>2465 days</td>\n",
       "      <td>2016</td>\n",
       "      <td>1</td>\n",
       "      <td>30.060976</td>\n",
       "      <td>0.260</td>\n",
       "      <td>0.072439</td>\n",
       "      <td>1.381959</td>\n",
       "      <td>-3.000000</td>\n",
       "      <td>2.78</td>\n",
       "      <td>1.550000</td>\n",
       "      <td>5.940000</td>\n",
       "      <td>19.077551</td>\n",
       "      <td>0.393947</td>\n",
       "      <td>0.002278</td>\n",
       "      <td>82</td>\n",
       "      <td>-0.602788</td>\n",
       "    </tr>\n",
       "    <tr>\n",
       "      <th>19997</th>\n",
       "      <td>29091</td>\n",
       "      <td>2017-01-01</td>\n",
       "      <td>2021-07-01</td>\n",
       "      <td>1642 days</td>\n",
       "      <td>2017</td>\n",
       "      <td>1</td>\n",
       "      <td>29.854545</td>\n",
       "      <td>0.290</td>\n",
       "      <td>0.068727</td>\n",
       "      <td>1.173802</td>\n",
       "      <td>-3.660000</td>\n",
       "      <td>1.91</td>\n",
       "      <td>1.730000</td>\n",
       "      <td>3.780000</td>\n",
       "      <td>17.079129</td>\n",
       "      <td>1.035280</td>\n",
       "      <td>0.002200</td>\n",
       "      <td>55</td>\n",
       "      <td>1.753140</td>\n",
       "    </tr>\n",
       "    <tr>\n",
       "      <th>19998</th>\n",
       "      <td>85877</td>\n",
       "      <td>2017-04-01</td>\n",
       "      <td>2021-01-01</td>\n",
       "      <td>1371 days</td>\n",
       "      <td>2017</td>\n",
       "      <td>4</td>\n",
       "      <td>29.804348</td>\n",
       "      <td>-0.180</td>\n",
       "      <td>-0.037175</td>\n",
       "      <td>1.177763</td>\n",
       "      <td>-2.801675</td>\n",
       "      <td>2.40</td>\n",
       "      <td>-2.801675</td>\n",
       "      <td>-1.710050</td>\n",
       "      <td>-31.681577</td>\n",
       "      <td>-1.716250</td>\n",
       "      <td>-0.061743</td>\n",
       "      <td>46</td>\n",
       "      <td>-0.574782</td>\n",
       "    </tr>\n",
       "    <tr>\n",
       "      <th>19999</th>\n",
       "      <td>73528</td>\n",
       "      <td>2016-01-01</td>\n",
       "      <td>2023-06-01</td>\n",
       "      <td>2708 days</td>\n",
       "      <td>2016</td>\n",
       "      <td>1</td>\n",
       "      <td>30.088889</td>\n",
       "      <td>0.175</td>\n",
       "      <td>0.020667</td>\n",
       "      <td>1.308885</td>\n",
       "      <td>-2.990000</td>\n",
       "      <td>2.44</td>\n",
       "      <td>0.860000</td>\n",
       "      <td>1.860000</td>\n",
       "      <td>63.333138</td>\n",
       "      <td>0.715639</td>\n",
       "      <td>0.017945</td>\n",
       "      <td>90</td>\n",
       "      <td>-0.604722</td>\n",
       "    </tr>\n",
       "  </tbody>\n",
       "</table>\n",
       "<p>20000 rows × 19 columns</p>\n",
       "</div>"
      ],
      "text/plain": [
       "          id start_date   end_date  ... trend_slope  length  kurtosis\n",
       "0       6125 2016-01-01 2020-09-01  ...   -0.010018      57 -0.342699\n",
       "1      26781 2016-01-01 2020-07-01  ...   -0.009304      55  1.058050\n",
       "2      13333 2016-06-01 2020-12-01  ...    0.025446      55  1.296155\n",
       "3      53218 2016-01-01 2022-06-01  ...   -0.008521      78  0.022481\n",
       "4      84204 2016-01-01 2021-05-01  ...   -0.024730      65 -0.479235\n",
       "...      ...        ...        ...  ...         ...     ...       ...\n",
       "19995  80341 2016-03-01 2022-12-01  ...   -0.004308      82  2.963392\n",
       "19996   5891 2016-01-01 2022-10-01  ...    0.002278      82 -0.602788\n",
       "19997  29091 2017-01-01 2021-07-01  ...    0.002200      55  1.753140\n",
       "19998  85877 2017-04-01 2021-01-01  ...   -0.061743      46 -0.574782\n",
       "19999  73528 2016-01-01 2023-06-01  ...    0.017945      90 -0.604722\n",
       "\n",
       "[20000 rows x 19 columns]"
      ]
     },
     "execution_count": 225,
     "metadata": {},
     "output_type": "execute_result"
    }
   ],
   "source": [
    "df_test"
   ]
  },
  {
   "cell_type": "code",
   "execution_count": 226,
   "id": "86023f99-92f6-4349-9d47-245971bff49f",
   "metadata": {
    "execution": {
     "iopub.execute_input": "2024-10-22T14:39:07.419809Z",
     "iopub.status.busy": "2024-10-22T14:39:07.418451Z",
     "iopub.status.idle": "2024-10-22T14:39:07.520957Z",
     "shell.execute_reply": "2024-10-22T14:39:07.519993Z",
     "shell.execute_reply.started": "2024-10-22T14:39:07.419768Z"
    },
    "tags": []
   },
   "outputs": [],
   "source": [
    "y_pred_proba = model.predict_proba(df_test)[:, 1]"
   ]
  },
  {
   "cell_type": "code",
   "execution_count": 227,
   "id": "e5c67c7e-b816-46b1-adae-3c825d062fc3",
   "metadata": {
    "execution": {
     "iopub.execute_input": "2024-10-22T14:39:17.275022Z",
     "iopub.status.busy": "2024-10-22T14:39:17.273918Z",
     "iopub.status.idle": "2024-10-22T14:39:17.315434Z",
     "shell.execute_reply": "2024-10-22T14:39:17.314280Z",
     "shell.execute_reply.started": "2024-10-22T14:39:17.274974Z"
    },
    "tags": []
   },
   "outputs": [
    {
     "data": {
      "text/plain": [
       "array([0.25000398, 0.18876139, 0.40797593, ..., 0.0444282 , 0.70952057,\n",
       "       0.02885293])"
      ]
     },
     "execution_count": 227,
     "metadata": {},
     "output_type": "execute_result"
    }
   ],
   "source": [
    "y_pred_proba"
   ]
  },
  {
   "cell_type": "code",
   "execution_count": 228,
   "id": "caf013dc-72b0-45b4-8c7c-59412adc9716",
   "metadata": {
    "execution": {
     "iopub.execute_input": "2024-10-22T14:40:11.823374Z",
     "iopub.status.busy": "2024-10-22T14:40:11.822226Z",
     "iopub.status.idle": "2024-10-22T14:40:11.833734Z",
     "shell.execute_reply": "2024-10-22T14:40:11.833024Z",
     "shell.execute_reply.started": "2024-10-22T14:40:11.823330Z"
    },
    "tags": []
   },
   "outputs": [],
   "source": [
    "res = pd.DataFrame(y_pred_proba)"
   ]
  },
  {
   "cell_type": "code",
   "execution_count": 229,
   "id": "4dc173c9-1b4d-4f18-b5d9-a146c12e96a3",
   "metadata": {
    "execution": {
     "iopub.execute_input": "2024-10-22T14:40:12.601125Z",
     "iopub.status.busy": "2024-10-22T14:40:12.600022Z",
     "iopub.status.idle": "2024-10-22T14:40:12.644154Z",
     "shell.execute_reply": "2024-10-22T14:40:12.643279Z",
     "shell.execute_reply.started": "2024-10-22T14:40:12.601076Z"
    },
    "tags": []
   },
   "outputs": [],
   "source": [
    "res = pd.concat([df_test['id'],res], axis = 1)"
   ]
  },
  {
   "cell_type": "code",
   "execution_count": 230,
   "id": "fae8aabf-68e1-42c6-903f-251a73b34d1f",
   "metadata": {
    "execution": {
     "iopub.execute_input": "2024-10-22T14:40:13.431839Z",
     "iopub.status.busy": "2024-10-22T14:40:13.430786Z",
     "iopub.status.idle": "2024-10-22T14:40:13.493084Z",
     "shell.execute_reply": "2024-10-22T14:40:13.492232Z",
     "shell.execute_reply.started": "2024-10-22T14:40:13.431798Z"
    },
    "tags": []
   },
   "outputs": [
    {
     "data": {
      "text/html": [
       "<div>\n",
       "<style scoped>\n",
       "    .dataframe tbody tr th:only-of-type {\n",
       "        vertical-align: middle;\n",
       "    }\n",
       "\n",
       "    .dataframe tbody tr th {\n",
       "        vertical-align: top;\n",
       "    }\n",
       "\n",
       "    .dataframe thead th {\n",
       "        text-align: right;\n",
       "    }\n",
       "</style>\n",
       "<table border=\"1\" class=\"dataframe\">\n",
       "  <thead>\n",
       "    <tr style=\"text-align: right;\">\n",
       "      <th></th>\n",
       "      <th>id</th>\n",
       "      <th>0</th>\n",
       "    </tr>\n",
       "  </thead>\n",
       "  <tbody>\n",
       "    <tr>\n",
       "      <th>0</th>\n",
       "      <td>6125</td>\n",
       "      <td>0.250004</td>\n",
       "    </tr>\n",
       "    <tr>\n",
       "      <th>1</th>\n",
       "      <td>26781</td>\n",
       "      <td>0.188761</td>\n",
       "    </tr>\n",
       "    <tr>\n",
       "      <th>2</th>\n",
       "      <td>13333</td>\n",
       "      <td>0.407976</td>\n",
       "    </tr>\n",
       "    <tr>\n",
       "      <th>3</th>\n",
       "      <td>53218</td>\n",
       "      <td>0.086910</td>\n",
       "    </tr>\n",
       "    <tr>\n",
       "      <th>4</th>\n",
       "      <td>84204</td>\n",
       "      <td>0.728793</td>\n",
       "    </tr>\n",
       "    <tr>\n",
       "      <th>...</th>\n",
       "      <td>...</td>\n",
       "      <td>...</td>\n",
       "    </tr>\n",
       "    <tr>\n",
       "      <th>19995</th>\n",
       "      <td>80341</td>\n",
       "      <td>0.235831</td>\n",
       "    </tr>\n",
       "    <tr>\n",
       "      <th>19996</th>\n",
       "      <td>5891</td>\n",
       "      <td>0.042769</td>\n",
       "    </tr>\n",
       "    <tr>\n",
       "      <th>19997</th>\n",
       "      <td>29091</td>\n",
       "      <td>0.044428</td>\n",
       "    </tr>\n",
       "    <tr>\n",
       "      <th>19998</th>\n",
       "      <td>85877</td>\n",
       "      <td>0.709521</td>\n",
       "    </tr>\n",
       "    <tr>\n",
       "      <th>19999</th>\n",
       "      <td>73528</td>\n",
       "      <td>0.028853</td>\n",
       "    </tr>\n",
       "  </tbody>\n",
       "</table>\n",
       "<p>20000 rows × 2 columns</p>\n",
       "</div>"
      ],
      "text/plain": [
       "          id         0\n",
       "0       6125  0.250004\n",
       "1      26781  0.188761\n",
       "2      13333  0.407976\n",
       "3      53218  0.086910\n",
       "4      84204  0.728793\n",
       "...      ...       ...\n",
       "19995  80341  0.235831\n",
       "19996   5891  0.042769\n",
       "19997  29091  0.044428\n",
       "19998  85877  0.709521\n",
       "19999  73528  0.028853\n",
       "\n",
       "[20000 rows x 2 columns]"
      ]
     },
     "execution_count": 230,
     "metadata": {},
     "output_type": "execute_result"
    }
   ],
   "source": [
    "res"
   ]
  },
  {
   "cell_type": "code",
   "execution_count": 231,
   "id": "fa6916ac-faa6-433a-8347-de464e13af60",
   "metadata": {
    "execution": {
     "iopub.execute_input": "2024-10-22T14:40:17.332866Z",
     "iopub.status.busy": "2024-10-22T14:40:17.331799Z",
     "iopub.status.idle": "2024-10-22T14:40:17.362824Z",
     "shell.execute_reply": "2024-10-22T14:40:17.362062Z",
     "shell.execute_reply.started": "2024-10-22T14:40:17.332824Z"
    },
    "tags": []
   },
   "outputs": [],
   "source": [
    "result = res.rename(columns = {0:'score'})"
   ]
  },
  {
   "cell_type": "code",
   "execution_count": 232,
   "id": "242c20cd-2c06-4647-af31-b2025142e46a",
   "metadata": {
    "execution": {
     "iopub.execute_input": "2024-10-22T14:40:20.503412Z",
     "iopub.status.busy": "2024-10-22T14:40:20.502526Z",
     "iopub.status.idle": "2024-10-22T14:40:20.563976Z",
     "shell.execute_reply": "2024-10-22T14:40:20.563181Z",
     "shell.execute_reply.started": "2024-10-22T14:40:20.503368Z"
    },
    "tags": []
   },
   "outputs": [
    {
     "data": {
      "text/html": [
       "<a href='result.csv' target='_blank'>result.csv</a><br>"
      ],
      "text/plain": [
       "/home/jupyter/datasphere/vk/result.csv"
      ]
     },
     "execution_count": 232,
     "metadata": {},
     "output_type": "execute_result"
    }
   ],
   "source": [
    "import pandas as pd\n",
    "\n",
    "# Сохраняем DataFrame в CSV\n",
    "result.to_csv('result.csv', index=False)\n",
    "\n",
    "# Загружаем файл для скачивания\n",
    "from IPython.display import FileLink\n",
    "FileLink('result.csv')\n"
   ]
  },
  {
   "cell_type": "code",
   "execution_count": null,
   "id": "a2cee9dd-184b-41d9-8843-2bc1cb2db5ac",
   "metadata": {},
   "outputs": [],
   "source": []
  }
 ],
 "metadata": {
  "kernelspec": {
   "display_name": "DataSphere Kernel",
   "language": "python",
   "name": "python3"
  },
  "language_info": {
   "codemirror_mode": {
    "name": "ipython",
    "version": 3
   },
   "file_extension": ".py",
   "mimetype": "text/x-python",
   "name": "python",
   "nbconvert_exporter": "python",
   "pygments_lexer": "ipython3",
   "version": "3.10.12"
  }
 },
 "nbformat": 4,
 "nbformat_minor": 5
}
